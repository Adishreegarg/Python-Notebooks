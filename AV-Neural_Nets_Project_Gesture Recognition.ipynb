{
 "cells": [
  {
   "cell_type": "markdown",
   "metadata": {},
   "source": [
    "#### Assignment submitted by : Adishree Garg & Vipul Suri of Batch: DS13-Aug-19"
   ]
  },
  {
   "cell_type": "markdown",
   "metadata": {},
   "source": [
    "# Gesture Recognition\n",
    "In this group project, you are going to build a 3D Conv model that will be able to predict the 5 gestures correctly. Please import the following libraries to get started."
   ]
  },
  {
   "cell_type": "code",
   "execution_count": 1,
   "metadata": {},
   "outputs": [],
   "source": [
    "import numpy as np\n",
    "import os\n",
    "from scipy.misc import imread, imresize\n",
    "import datetime\n",
    "import os"
   ]
  },
  {
   "cell_type": "markdown",
   "metadata": {},
   "source": [
    "We set the random seed so that the results don't vary drastically."
   ]
  },
  {
   "cell_type": "code",
   "execution_count": 2,
   "metadata": {},
   "outputs": [
    {
     "name": "stderr",
     "output_type": "stream",
     "text": [
      "Using TensorFlow backend.\n"
     ]
    }
   ],
   "source": [
    "np.random.seed(30)\n",
    "import random as rn\n",
    "rn.seed(30)\n",
    "from keras import backend as K\n",
    "import tensorflow as tf\n",
    "tf.set_random_seed(30)"
   ]
  },
  {
   "cell_type": "markdown",
   "metadata": {},
   "source": [
    "In this block, you read the folder names for training and validation. You also set the `batch_size` here. Note that you set the batch size in such a way that you are able to use the GPU in full capacity. You keep increasing the batch size until the machine throws an error."
   ]
  },
  {
   "cell_type": "code",
   "execution_count": 3,
   "metadata": {},
   "outputs": [],
   "source": [
    "# import zipfile\n",
    "# with zipfile.ZipFile(https://drive.google.com/uc?id=1ehyrYBQ5rbQQe6yL4XbLWe3FMvuVUGiL, 'r') as zip_ref:\n",
    "#     zip_ref.extractall(directory_to_extract_to)"
   ]
  },
  {
   "cell_type": "code",
   "execution_count": 4,
   "metadata": {},
   "outputs": [],
   "source": [
    "# train_doc = np.random.permutation(open('/notebooks/storage/Final_data/Collated_training/train.csv').readlines())\n",
    "# val_doc = np.random.permutation(open('/notebooks/storage/Final_data/Collated_training/val.csv').readlines())\n",
    "train_doc = np.random.permutation(open('Project_data/train.csv').readlines())\n",
    "val_doc = np.random.permutation(open('Project_data/val.csv').readlines())\n",
    "batch_size = 30   #experiment with the batch size"
   ]
  },
  {
   "cell_type": "markdown",
   "metadata": {},
   "source": [
    "## Generator\n",
    "This is one of the most important part of the code. The overall structure of the generator has been given. In the generator, you are going to preprocess the images as you have images of 2 different dimensions as well as create a batch of video frames. You have to experiment with `img_idx`, `y`,`z` and normalization such that you get high accuracy."
   ]
  },
  {
   "cell_type": "code",
   "execution_count": 5,
   "metadata": {},
   "outputs": [],
   "source": [
    "def generator(source_path, folder_list, batch_size):\n",
    "    print( 'Source path = ', source_path, '; batch size =', batch_size)\n",
    "    img_idx = range(0, 30, 2) #create a list of image numbers you want to use for a particular video\n",
    "    while True:\n",
    "        t = np.random.permutation(folder_list)\n",
    "        num_batches = len(folder_list)//batch_size                         # calculate the number of batches\n",
    "        for batch in range(num_batches): # we iterate over the number of batches\n",
    "            batch_data = np.zeros((batch_size,len(img_idx),128,128,3)) # x is the number of images you use for each video, (y,z) is the final size of the input images and 3 is the number of channels RGB\n",
    "            batch_labels = np.zeros((batch_size,5)) # batch_labels is the one hot representation of the output\n",
    "            for folder in range(batch_size): # iterate over the batch_size\n",
    "                imgs = os.listdir(source_path+'/'+ t[folder + (batch*batch_size)].split(';')[0]) # read all the images in the folder\n",
    "                for idx,item in enumerate(img_idx): #  Iterate iver the frames/images of a folder to read them in\n",
    "                    image = imread(source_path+'/'+ t[folder + (batch*batch_size)].strip().split(';')[0]+'/'+imgs[item]).astype(np.float32)\n",
    "                    \n",
    "                    #crop the images and resize them. Note that the images are of 2 different shape \n",
    "                    #and the conv3D will throw error if the inputs in a batch have different shapes\n",
    "                    sized_img=imresize(image,(128,128))\n",
    "                    \n",
    "                    batch_data[folder,idx,:,:,0] = (sized_img[:,:,0])/255  #normalise and feed in the image\n",
    "                    batch_data[folder,idx,:,:,1] = (sized_img[:,:,1])/255  #normalise and feed in the image\n",
    "                    batch_data[folder,idx,:,:,2] = (sized_img[:,:,2])/255  #normalise and feed in the image\n",
    "                    \n",
    "                batch_labels[folder, int(t[folder + (batch*batch_size)].strip().split(';')[2])] = 1\n",
    "            yield batch_data, batch_labels #you yield the batch_data and the batch_labels, remember what does yield do\n",
    "\n",
    "        \n",
    "        # write the code for the remaining data points which are left after full batches\n",
    "#         rest_batch_size = len(folder_list)- (num_batches * batch_size)  # calculate the number of batches\n",
    "        rest_batch_size = len(folder_list)%(batch_size)\n",
    "        if (rest_batch_size!=0):\n",
    "            batch_data = np.zeros((rest_batch_size,len(img_idx),128,128,3)) # x is the number of images you use for each video, (y,z) is the final size of the input images and 3 is the number of channels RGB\n",
    "            batch_labels = np.zeros((rest_batch_size,5)) # batch_labels is the one hot representation of the output\n",
    "            for folder in range(rest_batch_size): # iterate over the batch_size\n",
    "                imgs = os.listdir(source_path+'/'+ t[folder + (rest_batch_size)].split(';')[0]) # read all the images in the folder\n",
    "                for idx,item in enumerate(img_idx): #  Iterate iver the frames/images of a folder to read them in\n",
    "                    image = imread(source_path+'/'+ t[folder + (rest_batch_size)].strip().split(';')[0]+'/'+imgs[item]).astype(np.float32)\n",
    "                    \n",
    "                    #crop the images and resize them. Note that the images are of 2 different shape \n",
    "                    #and the conv3D will throw error if the inputs in a batch have different shapes\n",
    "                    sized_img=imresize(image,(128,128))\n",
    "                    \n",
    "                    batch_data[folder,idx,:,:,0] = (sized_img[:,:,0])/255  #normalise and feed in the image\n",
    "                    batch_data[folder,idx,:,:,1] = (sized_img[:,:,1])/255  #normalise and feed in the image\n",
    "                    batch_data[folder,idx,:,:,2] = (sized_img[:,:,2])/255  #normalise and feed in the image\n",
    "                    \n",
    "                batch_labels[folder, int(t[folder + (rest_batch_size)].strip().split(';')[2])] = 1\n",
    "            yield batch_data, batch_labels #you yield the batch_data and the batch_labels, remember what does yield do"
   ]
  },
  {
   "cell_type": "markdown",
   "metadata": {},
   "source": [
    "Note here that a video is represented above in the generator as (number of images, height, width, number of channels). Take this into consideration while creating the model architecture."
   ]
  },
  {
   "cell_type": "code",
   "execution_count": 6,
   "metadata": {},
   "outputs": [
    {
     "name": "stdout",
     "output_type": "stream",
     "text": [
      "# training sequences = 663\n",
      "# validation sequences = 100\n",
      "# epochs = 30\n"
     ]
    }
   ],
   "source": [
    "curr_dt_time = datetime.datetime.now()\n",
    "train_path = 'Project_data/train'\n",
    "val_path = 'Project_data/val'\n",
    "num_train_sequences = len(train_doc)\n",
    "print('# training sequences =', num_train_sequences)\n",
    "num_val_sequences = len(val_doc)\n",
    "print('# validation sequences =', num_val_sequences)\n",
    "num_epochs = 30                                           # choose the number of epochs\n",
    "print ('# epochs =', num_epochs)"
   ]
  },
  {
   "cell_type": "markdown",
   "metadata": {},
   "source": [
    "# Model 1\n",
    "Here you make the model using different functionalities that Keras provides. Remember to use `Conv3D` and `MaxPooling3D` and not `Conv2D` and `Maxpooling2D` for a 3D convolution model. You would want to use `TimeDistributed` while building a Conv2D + RNN model. Also remember that the last layer is the softmax. Design the network in such a way that the model is able to give good accuracy on the least number of parameters so that it can fit in the memory of the webcam."
   ]
  },
  {
   "cell_type": "code",
   "execution_count": 28,
   "metadata": {},
   "outputs": [],
   "source": [
    "input_shape = (batch_size,15,128,128,3)[1:]\n",
    "\n",
    "#write your model here\n",
    "model = Sequential()\n",
    "model.add(Conv3D(128, \n",
    "                 kernel_size=(5,5,5),\n",
    "                 input_shape=input_shape,\n",
    "                 padding='same', name=\"conv1\"))\n",
    "model.add(Activation('relu'))\n",
    "model.add(BatchNormalization())\n",
    "model.add(MaxPooling3D(pool_size=(2,2,2)))\n",
    "\n",
    "model.add(Conv3D(128, \n",
    "                 kernel_size=(5,5,5),\n",
    "                 padding='same',name=\"conv2\"))\n",
    "model.add(Activation('relu'))\n",
    "model.add(BatchNormalization())\n",
    "model.add(MaxPooling3D(pool_size=(2,2,2)))\n",
    "model.add(Dropout(0.25))\n",
    "\n",
    "model.add(Conv3D(128, \n",
    "                 kernel_size=(3,3,3), \n",
    "                 padding='same',name=\"conv3\"))\n",
    "model.add(Activation('relu'))\n",
    "model.add(BatchNormalization())\n",
    "model.add(MaxPooling3D(pool_size=(2,2,2)))\n",
    "#model.add(Dropout(0.25))\n",
    "model.add(Flatten())\n",
    "model.add(Dense(128, activation='relu'))\n",
    "model.add(Dropout(0.5))\n",
    "model.add(Dense(128, activation='relu'))\n",
    "model.add(Dropout(0.5))\n",
    "#softmax layer\n",
    "model.add(Dense(5, activation='softmax'))"
   ]
  },
  {
   "cell_type": "code",
   "execution_count": 29,
   "metadata": {
    "scrolled": false
   },
   "outputs": [
    {
     "name": "stdout",
     "output_type": "stream",
     "text": [
      "_________________________________________________________________\n",
      "Layer (type)                 Output Shape              Param #   \n",
      "=================================================================\n",
      "conv1 (Conv3D)               (None, 15, 128, 128, 128) 48128     \n",
      "_________________________________________________________________\n",
      "activation_10 (Activation)   (None, 15, 128, 128, 128) 0         \n",
      "_________________________________________________________________\n",
      "batch_normalization_15 (Batc (None, 15, 128, 128, 128) 512       \n",
      "_________________________________________________________________\n",
      "max_pooling3d_13 (MaxPooling (None, 7, 64, 64, 128)    0         \n",
      "_________________________________________________________________\n",
      "conv2 (Conv3D)               (None, 7, 64, 64, 128)    2048128   \n",
      "_________________________________________________________________\n",
      "activation_11 (Activation)   (None, 7, 64, 64, 128)    0         \n",
      "_________________________________________________________________\n",
      "batch_normalization_16 (Batc (None, 7, 64, 64, 128)    512       \n",
      "_________________________________________________________________\n",
      "max_pooling3d_14 (MaxPooling (None, 3, 32, 32, 128)    0         \n",
      "_________________________________________________________________\n",
      "dropout_11 (Dropout)         (None, 3, 32, 32, 128)    0         \n",
      "_________________________________________________________________\n",
      "conv3 (Conv3D)               (None, 3, 32, 32, 128)    442496    \n",
      "_________________________________________________________________\n",
      "activation_12 (Activation)   (None, 3, 32, 32, 128)    0         \n",
      "_________________________________________________________________\n",
      "batch_normalization_17 (Batc (None, 3, 32, 32, 128)    512       \n",
      "_________________________________________________________________\n",
      "max_pooling3d_15 (MaxPooling (None, 1, 16, 16, 128)    0         \n",
      "_________________________________________________________________\n",
      "flatten_5 (Flatten)          (None, 32768)             0         \n",
      "_________________________________________________________________\n",
      "dense_12 (Dense)             (None, 128)               4194432   \n",
      "_________________________________________________________________\n",
      "dropout_12 (Dropout)         (None, 128)               0         \n",
      "_________________________________________________________________\n",
      "dense_13 (Dense)             (None, 128)               16512     \n",
      "_________________________________________________________________\n",
      "dropout_13 (Dropout)         (None, 128)               0         \n",
      "_________________________________________________________________\n",
      "dense_14 (Dense)             (None, 5)                 645       \n",
      "=================================================================\n",
      "Total params: 6,751,877\n",
      "Trainable params: 6,751,109\n",
      "Non-trainable params: 768\n",
      "_________________________________________________________________\n",
      "None\n"
     ]
    }
   ],
   "source": [
    "optimiser = 'adam'                                                       #write your optimizer\n",
    "model.compile(optimizer=optimiser, loss='categorical_crossentropy', metrics=['categorical_accuracy'])\n",
    "print (model.summary())"
   ]
  },
  {
   "cell_type": "markdown",
   "metadata": {},
   "source": [
    "### We will not train the model with above params because there are large no. of trainable params"
   ]
  },
  {
   "cell_type": "markdown",
   "metadata": {},
   "source": [
    "## Model 2\n",
    "Here you make the model using different functionalities that Keras provides. Remember to use `Conv3D` and `MaxPooling3D` and not `Conv2D` and `Maxpooling2D` for a 3D convolution model. You would want to use `TimeDistributed` while building a Conv2D + RNN model. Also remember that the last layer is the softmax. Design the network in such a way that the model is able to give good accuracy on the least number of parameters so that it can fit in the memory of the webcam."
   ]
  },
  {
   "cell_type": "code",
   "execution_count": 7,
   "metadata": {},
   "outputs": [],
   "source": [
    "from keras.models import Sequential, Model\n",
    "from keras.layers import Dense, GRU, Flatten, TimeDistributed, Flatten, BatchNormalization, Activation, Dropout\n",
    "from keras.layers.convolutional import Conv3D, MaxPooling3D\n",
    "from keras.callbacks import ModelCheckpoint, ReduceLROnPlateau\n",
    "from keras import optimizers\n",
    "from keras.optimizers import Adam\n",
    "\n",
    "input_shape = (batch_size,15,128,128,3)[1:]\n",
    "\n",
    "#write your model here\n",
    "model = Sequential()\n",
    "model.add(Conv3D(16, \n",
    "                 kernel_size=(3,3,3),\n",
    "                 input_shape=input_shape,\n",
    "                 padding='same', name=\"conv1\"))\n",
    "model.add(Activation('relu'))\n",
    "model.add(BatchNormalization())\n",
    "model.add(MaxPooling3D(pool_size=(2,2,2)))\n",
    "\n",
    "model.add(Conv3D(32, \n",
    "                 kernel_size=(2,2,2),\n",
    "                 padding='same',name=\"conv2\"))\n",
    "model.add(Activation('relu'))\n",
    "model.add(BatchNormalization())\n",
    "model.add(MaxPooling3D(pool_size=(2,2,2)))\n",
    "#model.add(Dropout(0.25))\n",
    "\n",
    "model.add(Conv3D(64, \n",
    "                 kernel_size=(2,2,2), \n",
    "                 padding='same',name=\"conv3\"))\n",
    "model.add(Activation('relu'))\n",
    "model.add(BatchNormalization())\n",
    "model.add(MaxPooling3D(pool_size=(2,2,2)))\n",
    "#model.add(Dropout(0.25))\n",
    "model.add(Flatten())\n",
    "model.add(Dense(64, activation='relu'))\n",
    "model.add(Dropout(0.5))\n",
    "model.add(Dense(128, activation='relu'))\n",
    "model.add(Dropout(0.5))\n",
    "#softmax layer\n",
    "model.add(Dense(5, activation='softmax'))"
   ]
  },
  {
   "cell_type": "markdown",
   "metadata": {},
   "source": [
    "Now that you have written the model, the next step is to `compile` the model. When you print the `summary` of the model, you'll see the total number of parameters you have to train."
   ]
  },
  {
   "cell_type": "code",
   "execution_count": 8,
   "metadata": {
    "scrolled": false
   },
   "outputs": [
    {
     "name": "stdout",
     "output_type": "stream",
     "text": [
      "_________________________________________________________________\n",
      "Layer (type)                 Output Shape              Param #   \n",
      "=================================================================\n",
      "conv1 (Conv3D)               (None, 15, 128, 128, 16)  1312      \n",
      "_________________________________________________________________\n",
      "activation_1 (Activation)    (None, 15, 128, 128, 16)  0         \n",
      "_________________________________________________________________\n",
      "batch_normalization_1 (Batch (None, 15, 128, 128, 16)  64        \n",
      "_________________________________________________________________\n",
      "max_pooling3d_1 (MaxPooling3 (None, 7, 64, 64, 16)     0         \n",
      "_________________________________________________________________\n",
      "conv2 (Conv3D)               (None, 7, 64, 64, 32)     4128      \n",
      "_________________________________________________________________\n",
      "activation_2 (Activation)    (None, 7, 64, 64, 32)     0         \n",
      "_________________________________________________________________\n",
      "batch_normalization_2 (Batch (None, 7, 64, 64, 32)     128       \n",
      "_________________________________________________________________\n",
      "max_pooling3d_2 (MaxPooling3 (None, 3, 32, 32, 32)     0         \n",
      "_________________________________________________________________\n",
      "conv3 (Conv3D)               (None, 3, 32, 32, 64)     16448     \n",
      "_________________________________________________________________\n",
      "activation_3 (Activation)    (None, 3, 32, 32, 64)     0         \n",
      "_________________________________________________________________\n",
      "batch_normalization_3 (Batch (None, 3, 32, 32, 64)     256       \n",
      "_________________________________________________________________\n",
      "max_pooling3d_3 (MaxPooling3 (None, 1, 16, 16, 64)     0         \n",
      "_________________________________________________________________\n",
      "flatten_1 (Flatten)          (None, 16384)             0         \n",
      "_________________________________________________________________\n",
      "dense_1 (Dense)              (None, 64)                1048640   \n",
      "_________________________________________________________________\n",
      "dropout_1 (Dropout)          (None, 64)                0         \n",
      "_________________________________________________________________\n",
      "dense_2 (Dense)              (None, 128)               8320      \n",
      "_________________________________________________________________\n",
      "dropout_2 (Dropout)          (None, 128)               0         \n",
      "_________________________________________________________________\n",
      "dense_3 (Dense)              (None, 5)                 645       \n",
      "=================================================================\n",
      "Total params: 1,079,941\n",
      "Trainable params: 1,079,717\n",
      "Non-trainable params: 224\n",
      "_________________________________________________________________\n",
      "None\n"
     ]
    }
   ],
   "source": [
    "optimiser = 'adam'                                                       #write your optimizer\n",
    "model.compile(optimizer=optimiser, loss='categorical_crossentropy', metrics=['categorical_accuracy'])\n",
    "print (model.summary())"
   ]
  },
  {
   "cell_type": "markdown",
   "metadata": {},
   "source": [
    "Let us create the `train_generator` and the `val_generator` which will be used in `.fit_generator`."
   ]
  },
  {
   "cell_type": "code",
   "execution_count": 9,
   "metadata": {},
   "outputs": [],
   "source": [
    "train_generator = generator(train_path, train_doc, batch_size)\n",
    "val_generator = generator(val_path, val_doc, batch_size)"
   ]
  },
  {
   "cell_type": "code",
   "execution_count": 10,
   "metadata": {},
   "outputs": [],
   "source": [
    "model_name = 'model_init' + '_' + str(curr_dt_time).replace(' ','').replace(':','_') + '/'\n",
    "    \n",
    "if not os.path.exists(model_name):\n",
    "    os.mkdir(model_name)\n",
    "        \n",
    "filepath = model_name + 'model-{epoch:05d}-{loss:.5f}-{categorical_accuracy:.5f}-{val_loss:.5f}-{val_categorical_accuracy:.5f}.h5'\n",
    "\n",
    "checkpoint = ModelCheckpoint(filepath, monitor='val_loss', verbose=1, save_best_only=False, save_weights_only=False, mode='auto', period=1)\n",
    "\n",
    "LR = ReduceLROnPlateau(monitor='val_loss', factor=0.2, patience=10, min_lr=0.001)           # write the REducelronplateau code here\n",
    "callbacks_list = [checkpoint, LR]"
   ]
  },
  {
   "cell_type": "markdown",
   "metadata": {},
   "source": [
    "The `steps_per_epoch` and `validation_steps` are used by `fit_generator` to decide the number of next() calls it need to make."
   ]
  },
  {
   "cell_type": "code",
   "execution_count": 11,
   "metadata": {},
   "outputs": [],
   "source": [
    "if (num_train_sequences%batch_size) == 0:\n",
    "    steps_per_epoch = int(num_train_sequences/batch_size)\n",
    "else:\n",
    "    steps_per_epoch = (num_train_sequences//batch_size) + 1\n",
    "\n",
    "if (num_val_sequences%batch_size) == 0:\n",
    "    validation_steps = int(num_val_sequences/batch_size)\n",
    "else:\n",
    "    validation_steps = (num_val_sequences//batch_size) + 1"
   ]
  },
  {
   "cell_type": "markdown",
   "metadata": {},
   "source": [
    "Let us now fit the model. This will start training the model and with the help of the checkpoints, you'll be able to save the model at the end of each epoch."
   ]
  },
  {
   "cell_type": "code",
   "execution_count": 12,
   "metadata": {
    "scrolled": false
   },
   "outputs": [
    {
     "name": "stdout",
     "output_type": "stream",
     "text": [
      "Source path =  Project_data/val ; batch size = 30\n",
      "Source path =  Project_data/train ; batch size = 30\n",
      "Epoch 1/30\n"
     ]
    },
    {
     "name": "stderr",
     "output_type": "stream",
     "text": [
      "/mnt/disks/user/anaconda3/lib/python3.6/site-packages/ipykernel_launcher.py:13: DeprecationWarning: `imread` is deprecated!\n",
      "`imread` is deprecated in SciPy 1.0.0, and will be removed in 1.2.0.\n",
      "Use ``imageio.imread`` instead.\n",
      "  del sys.path[0]\n",
      "/mnt/disks/user/anaconda3/lib/python3.6/site-packages/ipykernel_launcher.py:17: DeprecationWarning: `imresize` is deprecated!\n",
      "`imresize` is deprecated in SciPy 1.0.0, and will be removed in 1.2.0.\n",
      "Use ``skimage.transform.resize`` instead.\n",
      "/mnt/disks/user/anaconda3/lib/python3.6/site-packages/ipykernel_launcher.py:36: DeprecationWarning: `imread` is deprecated!\n",
      "`imread` is deprecated in SciPy 1.0.0, and will be removed in 1.2.0.\n",
      "Use ``imageio.imread`` instead.\n",
      "/mnt/disks/user/anaconda3/lib/python3.6/site-packages/ipykernel_launcher.py:40: DeprecationWarning: `imresize` is deprecated!\n",
      "`imresize` is deprecated in SciPy 1.0.0, and will be removed in 1.2.0.\n",
      "Use ``skimage.transform.resize`` instead.\n"
     ]
    },
    {
     "name": "stdout",
     "output_type": "stream",
     "text": [
      "23/23 [==============================] - 47s 2s/step - loss: 3.0727 - categorical_accuracy: 0.2366 - val_loss: 1.5920 - val_categorical_accuracy: 0.2300\n",
      "\n",
      "Epoch 00001: saving model to model_init_2020-07-1313_39_32.664967/model-00001-3.12927-0.24585-1.59198-0.23000.h5\n",
      "Epoch 2/30\n",
      "23/23 [==============================] - 40s 2s/step - loss: 1.6299 - categorical_accuracy: 0.1873 - val_loss: 1.6106 - val_categorical_accuracy: 0.1500\n",
      "\n",
      "Epoch 00002: saving model to model_init_2020-07-1313_39_32.664967/model-00002-1.63067-0.19457-1.61061-0.15000.h5\n",
      "Epoch 3/30\n",
      "23/23 [==============================] - 41s 2s/step - loss: 1.6225 - categorical_accuracy: 0.1925 - val_loss: 1.6097 - val_categorical_accuracy: 0.2000\n",
      "\n",
      "Epoch 00003: saving model to model_init_2020-07-1313_39_32.664967/model-00003-1.62319-0.18703-1.60969-0.20000.h5\n",
      "Epoch 4/30\n",
      "23/23 [==============================] - 41s 2s/step - loss: 1.6101 - categorical_accuracy: 0.1858 - val_loss: 1.6106 - val_categorical_accuracy: 0.2100\n",
      "\n",
      "Epoch 00004: saving model to model_init_2020-07-1313_39_32.664967/model-00004-1.60959-0.19306-1.61060-0.21000.h5\n",
      "Epoch 5/30\n",
      "23/23 [==============================] - 41s 2s/step - loss: 1.6088 - categorical_accuracy: 0.1989 - val_loss: 1.6095 - val_categorical_accuracy: 0.2000\n",
      "\n",
      "Epoch 00005: saving model to model_init_2020-07-1313_39_32.664967/model-00005-1.60863-0.20664-1.60948-0.20000.h5\n",
      "Epoch 6/30\n",
      "23/23 [==============================] - 41s 2s/step - loss: 1.6073 - categorical_accuracy: 0.2288 - val_loss: 1.6096 - val_categorical_accuracy: 0.2200\n",
      "\n",
      "Epoch 00006: saving model to model_init_2020-07-1313_39_32.664967/model-00006-1.60721-0.22474-1.60959-0.22000.h5\n",
      "Epoch 7/30\n",
      "23/23 [==============================] - 41s 2s/step - loss: 1.6052 - categorical_accuracy: 0.1713 - val_loss: 1.6092 - val_categorical_accuracy: 0.1700\n",
      "\n",
      "Epoch 00007: saving model to model_init_2020-07-1313_39_32.664967/model-00007-1.60480-0.17798-1.60916-0.17000.h5\n",
      "Epoch 8/30\n",
      "23/23 [==============================] - 41s 2s/step - loss: 1.6023 - categorical_accuracy: 0.1989 - val_loss: 1.6015 - val_categorical_accuracy: 0.2000\n",
      "\n",
      "Epoch 00008: saving model to model_init_2020-07-1313_39_32.664967/model-00008-1.60175-0.20664-1.60151-0.20000.h5\n",
      "Epoch 9/30\n",
      "23/23 [==============================] - 41s 2s/step - loss: 1.6072 - categorical_accuracy: 0.2221 - val_loss: 1.6092 - val_categorical_accuracy: 0.1900\n",
      "\n",
      "Epoch 00009: saving model to model_init_2020-07-1313_39_32.664967/model-00009-1.60717-0.23077-1.60916-0.19000.h5\n",
      "Epoch 10/30\n",
      "23/23 [==============================] - 41s 2s/step - loss: 1.6002 - categorical_accuracy: 0.1916 - val_loss: 1.6092 - val_categorical_accuracy: 0.1500\n",
      "\n",
      "Epoch 00010: saving model to model_init_2020-07-1313_39_32.664967/model-00010-1.59983-0.19910-1.60921-0.15000.h5\n",
      "Epoch 11/30\n",
      "23/23 [==============================] - 40s 2s/step - loss: 1.6052 - categorical_accuracy: 0.2018 - val_loss: 1.6086 - val_categorical_accuracy: 0.1800\n",
      "\n",
      "Epoch 00011: saving model to model_init_2020-07-1313_39_32.664967/model-00011-1.60509-0.20965-1.60856-0.18000.h5\n",
      "Epoch 12/30\n",
      "23/23 [==============================] - 41s 2s/step - loss: 1.6067 - categorical_accuracy: 0.2163 - val_loss: 1.6097 - val_categorical_accuracy: 0.1300\n",
      "\n",
      "Epoch 00012: saving model to model_init_2020-07-1313_39_32.664967/model-00012-1.60651-0.22474-1.60973-0.13000.h5\n",
      "Epoch 13/30\n",
      "23/23 [==============================] - 41s 2s/step - loss: 1.6053 - categorical_accuracy: 0.2186 - val_loss: 1.6080 - val_categorical_accuracy: 0.2300\n",
      "\n",
      "Epoch 00013: saving model to model_init_2020-07-1313_39_32.664967/model-00013-1.60555-0.21418-1.60802-0.23000.h5\n",
      "Epoch 14/30\n",
      "23/23 [==============================] - 41s 2s/step - loss: 1.6061 - categorical_accuracy: 0.1838 - val_loss: 1.6095 - val_categorical_accuracy: 0.1900\n",
      "\n",
      "Epoch 00014: saving model to model_init_2020-07-1313_39_32.664967/model-00014-1.60670-0.17798-1.60945-0.19000.h5\n",
      "Epoch 15/30\n",
      "23/23 [==============================] - 40s 2s/step - loss: 1.6216 - categorical_accuracy: 0.2172 - val_loss: 1.6085 - val_categorical_accuracy: 0.2200\n",
      "\n",
      "Epoch 00015: saving model to model_init_2020-07-1313_39_32.664967/model-00015-1.62277-0.21267-1.60847-0.22000.h5\n",
      "Epoch 16/30\n",
      "23/23 [==============================] - 41s 2s/step - loss: 1.6056 - categorical_accuracy: 0.2172 - val_loss: 1.6819 - val_categorical_accuracy: 0.2100\n",
      "\n",
      "Epoch 00016: saving model to model_init_2020-07-1313_39_32.664967/model-00016-1.60574-0.21267-1.68190-0.21000.h5\n",
      "Epoch 17/30\n",
      "23/23 [==============================] - 41s 2s/step - loss: 1.6142 - categorical_accuracy: 0.2047 - val_loss: 1.6087 - val_categorical_accuracy: 0.1700\n",
      "\n",
      "Epoch 00017: saving model to model_init_2020-07-1313_39_32.664967/model-00017-1.61445-0.21267-1.60866-0.17000.h5\n",
      "Epoch 18/30\n",
      "23/23 [==============================] - 40s 2s/step - loss: 1.6037 - categorical_accuracy: 0.2012 - val_loss: 1.6125 - val_categorical_accuracy: 0.1600\n",
      "\n",
      "Epoch 00018: saving model to model_init_2020-07-1313_39_32.664967/model-00018-1.60431-0.19608-1.61250-0.16000.h5\n",
      "Epoch 19/30\n",
      "23/23 [==============================] - 40s 2s/step - loss: 1.6102 - categorical_accuracy: 0.2099 - val_loss: 1.6059 - val_categorical_accuracy: 0.1800\n",
      "\n",
      "Epoch 00019: saving model to model_init_2020-07-1313_39_32.664967/model-00019-1.60945-0.20513-1.60592-0.18000.h5\n",
      "Epoch 20/30\n",
      "23/23 [==============================] - 40s 2s/step - loss: 1.6072 - categorical_accuracy: 0.2027 - val_loss: 1.6107 - val_categorical_accuracy: 0.1700\n",
      "\n",
      "Epoch 00020: saving model to model_init_2020-07-1313_39_32.664967/model-00020-1.60660-0.19759-1.61068-0.17000.h5\n",
      "Epoch 21/30\n",
      "23/23 [==============================] - 41s 2s/step - loss: 1.6055 - categorical_accuracy: 0.2268 - val_loss: 1.6073 - val_categorical_accuracy: 0.1900\n",
      "\n",
      "Epoch 00021: saving model to model_init_2020-07-1313_39_32.664967/model-00021-1.60601-0.20965-1.60732-0.19000.h5\n",
      "Epoch 22/30\n",
      "23/23 [==============================] - 41s 2s/step - loss: 1.6063 - categorical_accuracy: 0.2085 - val_loss: 1.6073 - val_categorical_accuracy: 0.2200\n",
      "\n",
      "Epoch 00022: saving model to model_init_2020-07-1313_39_32.664967/model-00022-1.60689-0.20362-1.60729-0.22000.h5\n",
      "Epoch 23/30\n",
      "23/23 [==============================] - 40s 2s/step - loss: 1.6093 - categorical_accuracy: 0.1945 - val_loss: 1.6075 - val_categorical_accuracy: 0.1800\n",
      "\n",
      "Epoch 00023: saving model to model_init_2020-07-1313_39_32.664967/model-00023-1.60922-0.20211-1.60754-0.18000.h5\n",
      "Epoch 24/30\n",
      "23/23 [==============================] - 41s 2s/step - loss: 1.6026 - categorical_accuracy: 0.2451 - val_loss: 1.6112 - val_categorical_accuracy: 0.1600\n",
      "\n",
      "Epoch 00024: saving model to model_init_2020-07-1313_39_32.664967/model-00024-1.60381-0.21569-1.61119-0.16000.h5\n",
      "Epoch 25/30\n",
      "23/23 [==============================] - 41s 2s/step - loss: 1.6043 - categorical_accuracy: 0.2003 - val_loss: 1.6078 - val_categorical_accuracy: 0.2100\n",
      "\n",
      "Epoch 00025: saving model to model_init_2020-07-1313_39_32.664967/model-00025-1.60342-0.20814-1.60783-0.21000.h5\n",
      "Epoch 26/30\n",
      "23/23 [==============================] - 41s 2s/step - loss: 1.6060 - categorical_accuracy: 0.1925 - val_loss: 1.6076 - val_categorical_accuracy: 0.1800\n",
      "\n",
      "Epoch 00026: saving model to model_init_2020-07-1313_39_32.664967/model-00026-1.60711-0.18703-1.60757-0.18000.h5\n",
      "Epoch 27/30\n",
      "23/23 [==============================] - 41s 2s/step - loss: 1.6056 - categorical_accuracy: 0.2245 - val_loss: 1.6082 - val_categorical_accuracy: 0.2200\n",
      "\n",
      "Epoch 00027: saving model to model_init_2020-07-1313_39_32.664967/model-00027-1.60579-0.22021-1.60817-0.22000.h5\n",
      "Epoch 28/30\n",
      "23/23 [==============================] - 41s 2s/step - loss: 1.5987 - categorical_accuracy: 0.2012 - val_loss: 1.6017 - val_categorical_accuracy: 0.2600\n",
      "\n",
      "Epoch 00028: saving model to model_init_2020-07-1313_39_32.664967/model-00028-1.59864-0.19608-1.60167-0.26000.h5\n",
      "Epoch 29/30\n",
      "23/23 [==============================] - 41s 2s/step - loss: 1.6070 - categorical_accuracy: 0.1829 - val_loss: 1.6084 - val_categorical_accuracy: 0.1700\n",
      "\n",
      "Epoch 00029: saving model to model_init_2020-07-1313_39_32.664967/model-00029-1.60621-0.19005-1.60838-0.17000.h5\n",
      "Epoch 30/30\n",
      "23/23 [==============================] - 41s 2s/step - loss: 1.6071 - categorical_accuracy: 0.1867 - val_loss: 1.5713 - val_categorical_accuracy: 0.2100\n",
      "\n",
      "Epoch 00030: saving model to model_init_2020-07-1313_39_32.664967/model-00030-1.60752-0.18100-1.57129-0.21000.h5\n"
     ]
    },
    {
     "data": {
      "text/plain": [
       "<keras.callbacks.History at 0x7f377d494358>"
      ]
     },
     "execution_count": 12,
     "metadata": {},
     "output_type": "execute_result"
    }
   ],
   "source": [
    "model.fit_generator(train_generator, steps_per_epoch=steps_per_epoch, epochs=num_epochs, verbose=1, \n",
    "                    callbacks=callbacks_list, validation_data=val_generator, \n",
    "                    validation_steps=validation_steps, class_weight=None, workers=1, initial_epoch=0)"
   ]
  },
  {
   "cell_type": "markdown",
   "metadata": {},
   "source": [
    "# Model 3"
   ]
  },
  {
   "cell_type": "code",
   "execution_count": 30,
   "metadata": {},
   "outputs": [
    {
     "name": "stdout",
     "output_type": "stream",
     "text": [
      "# training sequences = 663\n",
      "# validation sequences = 100\n",
      "# epochs = 30\n"
     ]
    }
   ],
   "source": [
    "curr_dt_time = datetime.datetime.now()\n",
    "train_path = 'Project_data/train'\n",
    "val_path = 'Project_data/val'\n",
    "num_train_sequences = len(train_doc)\n",
    "print('# training sequences =', num_train_sequences)\n",
    "num_val_sequences = len(val_doc)\n",
    "print('# validation sequences =', num_val_sequences)\n",
    "num_epochs = 30                                               # choose the number of epochs\n",
    "print ('# epochs =', num_epochs)"
   ]
  },
  {
   "cell_type": "code",
   "execution_count": 31,
   "metadata": {},
   "outputs": [],
   "source": [
    "input_shape = (20,15,128,128,3)[1:]\n",
    "\n",
    "model = Sequential()\n",
    "model.add(Conv3D(32, (3, 3, 3), padding='same',activation = 'relu',\n",
    "                 input_shape=input_shape))\n",
    "model.add(BatchNormalization())\n",
    "model.add(Conv3D(32, (3, 3, 3),activation = 'relu'))\n",
    "\n",
    "model.add(BatchNormalization())\n",
    "model.add(MaxPooling3D(pool_size=(2, 2, 2)))\n",
    "\n",
    "model.add(Conv3D(64, (3, 3, 3), padding='same', activation = 'relu'))\n",
    "model.add(BatchNormalization())\n",
    "\n",
    "model.add(Conv3D(64, (3, 3, 3), activation = 'relu'))\n",
    "model.add(BatchNormalization())\n",
    "\n",
    "model.add(MaxPooling3D(pool_size=(2, 2, 2)))\n",
    "\n",
    "model.add(Conv3D(64, (3, 3, 3), padding='same', activation = 'relu'))\n",
    "model.add(BatchNormalization())\n",
    "\n",
    "model.add(MaxPooling3D(pool_size=(2, 2, 2)))\n",
    "model.add(Dropout(0.20))\n",
    "\n",
    "model.add(Flatten())\n",
    "model.add(Dense(16, activation = 'relu'))\n",
    "model.add(Dropout(0.5))\n",
    "model.add(Dense(5, activation = 'softmax'))\n",
    "\n",
    "# model.add(Activation('softmax'))\n"
   ]
  },
  {
   "cell_type": "markdown",
   "metadata": {},
   "source": [
    "Now that you have written the model, the next step is to `compile` the model. When you print the `summary` of the model, you'll see the total number of parameters you have to train."
   ]
  },
  {
   "cell_type": "code",
   "execution_count": 32,
   "metadata": {
    "scrolled": false
   },
   "outputs": [
    {
     "name": "stdout",
     "output_type": "stream",
     "text": [
      "_________________________________________________________________\n",
      "Layer (type)                 Output Shape              Param #   \n",
      "=================================================================\n",
      "conv3d_6 (Conv3D)            (None, 15, 128, 128, 32)  2624      \n",
      "_________________________________________________________________\n",
      "batch_normalization_18 (Batc (None, 15, 128, 128, 32)  128       \n",
      "_________________________________________________________________\n",
      "conv3d_7 (Conv3D)            (None, 13, 126, 126, 32)  27680     \n",
      "_________________________________________________________________\n",
      "batch_normalization_19 (Batc (None, 13, 126, 126, 32)  128       \n",
      "_________________________________________________________________\n",
      "max_pooling3d_16 (MaxPooling (None, 6, 63, 63, 32)     0         \n",
      "_________________________________________________________________\n",
      "conv3d_8 (Conv3D)            (None, 6, 63, 63, 64)     55360     \n",
      "_________________________________________________________________\n",
      "batch_normalization_20 (Batc (None, 6, 63, 63, 64)     256       \n",
      "_________________________________________________________________\n",
      "conv3d_9 (Conv3D)            (None, 4, 61, 61, 64)     110656    \n",
      "_________________________________________________________________\n",
      "batch_normalization_21 (Batc (None, 4, 61, 61, 64)     256       \n",
      "_________________________________________________________________\n",
      "max_pooling3d_17 (MaxPooling (None, 2, 30, 30, 64)     0         \n",
      "_________________________________________________________________\n",
      "conv3d_10 (Conv3D)           (None, 2, 30, 30, 64)     110656    \n",
      "_________________________________________________________________\n",
      "batch_normalization_22 (Batc (None, 2, 30, 30, 64)     256       \n",
      "_________________________________________________________________\n",
      "max_pooling3d_18 (MaxPooling (None, 1, 15, 15, 64)     0         \n",
      "_________________________________________________________________\n",
      "dropout_14 (Dropout)         (None, 1, 15, 15, 64)     0         \n",
      "_________________________________________________________________\n",
      "flatten_6 (Flatten)          (None, 14400)             0         \n",
      "_________________________________________________________________\n",
      "dense_15 (Dense)             (None, 16)                230416    \n",
      "_________________________________________________________________\n",
      "dropout_15 (Dropout)         (None, 16)                0         \n",
      "_________________________________________________________________\n",
      "dense_16 (Dense)             (None, 5)                 85        \n",
      "=================================================================\n",
      "Total params: 538,501\n",
      "Trainable params: 537,989\n",
      "Non-trainable params: 512\n",
      "_________________________________________________________________\n",
      "None\n"
     ]
    }
   ],
   "source": [
    "optimiser = 'sgd'                                                       #write your optimizer\n",
    "model.compile(optimizer=optimiser, loss='categorical_crossentropy', metrics=['categorical_accuracy'])\n",
    "print (model.summary())"
   ]
  },
  {
   "cell_type": "markdown",
   "metadata": {},
   "source": [
    "Let us create the `train_generator` and the `val_generator` which will be used in `.fit_generator`."
   ]
  },
  {
   "cell_type": "code",
   "execution_count": 33,
   "metadata": {},
   "outputs": [],
   "source": [
    "train_generator = generator(train_path, train_doc, batch_size)\n",
    "val_generator = generator(val_path, val_doc, batch_size)"
   ]
  },
  {
   "cell_type": "code",
   "execution_count": 34,
   "metadata": {},
   "outputs": [],
   "source": [
    "model_name = 'model_init' + '_' + str(curr_dt_time).replace(' ','').replace(':','_') + '/'\n",
    "    \n",
    "if not os.path.exists(model_name):\n",
    "    os.mkdir(model_name)\n",
    "        \n",
    "filepath = model_name + 'model-{epoch:05d}-{loss:.5f}-{categorical_accuracy:.5f}-{val_loss:.5f}-{val_categorical_accuracy:.5f}.h5'\n",
    "\n",
    "checkpoint = ModelCheckpoint(filepath, monitor='val_loss', verbose=1, save_best_only=False, save_weights_only=False, mode='auto', period=1)\n",
    "\n",
    "LR = ReduceLROnPlateau(monitor='val_loss', factor=0.2, patience=10, min_lr=0.001)           # write the REducelronplateau code here\n",
    "callbacks_list = [checkpoint, LR]"
   ]
  },
  {
   "cell_type": "markdown",
   "metadata": {},
   "source": [
    "The `steps_per_epoch` and `validation_steps` are used by `fit_generator` to decide the number of next() calls it need to make."
   ]
  },
  {
   "cell_type": "code",
   "execution_count": 35,
   "metadata": {},
   "outputs": [],
   "source": [
    "if (num_train_sequences%batch_size) == 0:\n",
    "    steps_per_epoch = int(num_train_sequences/batch_size)\n",
    "else:\n",
    "    steps_per_epoch = (num_train_sequences//batch_size) + 1\n",
    "\n",
    "if (num_val_sequences%batch_size) == 0:\n",
    "    validation_steps = int(num_val_sequences/batch_size)\n",
    "else:\n",
    "    validation_steps = (num_val_sequences//batch_size) + 1"
   ]
  },
  {
   "cell_type": "markdown",
   "metadata": {},
   "source": [
    "Let us now fit the model. This will start training the model and with the help of the checkpoints, you'll be able to save the model at the end of each epoch."
   ]
  },
  {
   "cell_type": "code",
   "execution_count": 36,
   "metadata": {
    "scrolled": false
   },
   "outputs": [
    {
     "name": "stdout",
     "output_type": "stream",
     "text": [
      "Source path =  Project_data/val ; batch size = 30Source path =  Project_data/train ; batch size = 30\n",
      "\n",
      "Epoch 1/30\n"
     ]
    },
    {
     "name": "stderr",
     "output_type": "stream",
     "text": [
      "/mnt/disks/user/anaconda3/lib/python3.6/site-packages/ipykernel_launcher.py:13: DeprecationWarning: `imread` is deprecated!\n",
      "`imread` is deprecated in SciPy 1.0.0, and will be removed in 1.2.0.\n",
      "Use ``imageio.imread`` instead.\n",
      "  del sys.path[0]\n",
      "/mnt/disks/user/anaconda3/lib/python3.6/site-packages/ipykernel_launcher.py:17: DeprecationWarning: `imresize` is deprecated!\n",
      "`imresize` is deprecated in SciPy 1.0.0, and will be removed in 1.2.0.\n",
      "Use ``skimage.transform.resize`` instead.\n"
     ]
    },
    {
     "name": "stdout",
     "output_type": "stream",
     "text": [
      " 1/23 [>.............................] - ETA: 2:47 - loss: 2.5928 - categorical_accuracy: 0.2333"
     ]
    },
    {
     "name": "stderr",
     "output_type": "stream",
     "text": [
      "/mnt/disks/user/anaconda3/lib/python3.6/site-packages/ipykernel_launcher.py:36: DeprecationWarning: `imread` is deprecated!\n",
      "`imread` is deprecated in SciPy 1.0.0, and will be removed in 1.2.0.\n",
      "Use ``imageio.imread`` instead.\n",
      "/mnt/disks/user/anaconda3/lib/python3.6/site-packages/ipykernel_launcher.py:40: DeprecationWarning: `imresize` is deprecated!\n",
      "`imresize` is deprecated in SciPy 1.0.0, and will be removed in 1.2.0.\n",
      "Use ``skimage.transform.resize`` instead.\n"
     ]
    },
    {
     "name": "stdout",
     "output_type": "stream",
     "text": [
      "23/23 [==============================] - 79s 3s/step - loss: 1.7131 - categorical_accuracy: 0.2012 - val_loss: 1.6076 - val_categorical_accuracy: 0.1500\n",
      "\n",
      "Epoch 00001: saving model to model_init_2020-07-1314_06_16.182384/model-00001-1.71717-0.19608-1.60759-0.15000.h5\n",
      "Epoch 2/30\n",
      "23/23 [==============================] - 72s 3s/step - loss: 1.6096 - categorical_accuracy: 0.2050 - val_loss: 1.6087 - val_categorical_accuracy: 0.1800\n",
      "\n",
      "Epoch 00002: saving model to model_init_2020-07-1314_06_16.182384/model-00002-1.60966-0.18703-1.60872-0.18000.h5\n",
      "Epoch 3/30\n",
      "23/23 [==============================] - 72s 3s/step - loss: 1.6072 - categorical_accuracy: 0.2253 - val_loss: 1.6097 - val_categorical_accuracy: 0.1500\n",
      "\n",
      "Epoch 00003: saving model to model_init_2020-07-1314_06_16.182384/model-00003-1.60742-0.20814-1.60966-0.15000.h5\n",
      "Epoch 4/30\n",
      "23/23 [==============================] - 73s 3s/step - loss: 1.6075 - categorical_accuracy: 0.2143 - val_loss: 1.6094 - val_categorical_accuracy: 0.1800\n",
      "\n",
      "Epoch 00004: saving model to model_init_2020-07-1314_06_16.182384/model-00004-1.60759-0.20965-1.60938-0.18000.h5\n",
      "Epoch 5/30\n",
      "23/23 [==============================] - 73s 3s/step - loss: 1.6126 - categorical_accuracy: 0.1960 - val_loss: 1.6095 - val_categorical_accuracy: 0.1700\n",
      "\n",
      "Epoch 00005: saving model to model_init_2020-07-1314_06_16.182384/model-00005-1.61275-0.20362-1.60954-0.17000.h5\n",
      "Epoch 6/30\n",
      "23/23 [==============================] - 73s 3s/step - loss: 1.6046 - categorical_accuracy: 0.2003 - val_loss: 1.6082 - val_categorical_accuracy: 0.1900\n",
      "\n",
      "Epoch 00006: saving model to model_init_2020-07-1314_06_16.182384/model-00006-1.60455-0.20814-1.60819-0.19000.h5\n",
      "Epoch 7/30\n",
      "23/23 [==============================] - 74s 3s/step - loss: 1.6025 - categorical_accuracy: 0.2375 - val_loss: 1.6082 - val_categorical_accuracy: 0.2000\n",
      "\n",
      "Epoch 00007: saving model to model_init_2020-07-1314_06_16.182384/model-00007-1.60248-0.23379-1.60816-0.20000.h5\n",
      "Epoch 8/30\n",
      "23/23 [==============================] - 73s 3s/step - loss: 1.5864 - categorical_accuracy: 0.2230 - val_loss: 2.0094 - val_categorical_accuracy: 0.2600\n",
      "\n",
      "Epoch 00008: saving model to model_init_2020-07-1314_06_16.182384/model-00008-1.59161-0.21870-2.00940-0.26000.h5\n",
      "Epoch 9/30\n",
      "23/23 [==============================] - 74s 3s/step - loss: 1.5885 - categorical_accuracy: 0.2515 - val_loss: 1.5567 - val_categorical_accuracy: 0.2500\n",
      "\n",
      "Epoch 00009: saving model to model_init_2020-07-1314_06_16.182384/model-00009-1.58819-0.23529-1.55666-0.25000.h5\n",
      "Epoch 10/30\n",
      "23/23 [==============================] - 74s 3s/step - loss: 1.5704 - categorical_accuracy: 0.2616 - val_loss: 1.6974 - val_categorical_accuracy: 0.1600\n",
      "\n",
      "Epoch 00010: saving model to model_init_2020-07-1314_06_16.182384/model-00010-1.58263-0.24585-1.69739-0.16000.h5\n",
      "Epoch 11/30\n",
      "23/23 [==============================] - 74s 3s/step - loss: 1.5512 - categorical_accuracy: 0.2526 - val_loss: 1.5989 - val_categorical_accuracy: 0.2100\n",
      "\n",
      "Epoch 00011: saving model to model_init_2020-07-1314_06_16.182384/model-00011-1.54949-0.26244-1.59895-0.21000.h5\n",
      "Epoch 12/30\n",
      "23/23 [==============================] - 74s 3s/step - loss: 1.5218 - categorical_accuracy: 0.2947 - val_loss: 1.6052 - val_categorical_accuracy: 0.2600\n",
      "\n",
      "Epoch 00012: saving model to model_init_2020-07-1314_06_16.182384/model-00012-1.51819-0.30618-1.60525-0.26000.h5\n",
      "Epoch 13/30\n",
      "23/23 [==============================] - 74s 3s/step - loss: 1.4577 - categorical_accuracy: 0.3435 - val_loss: 1.4872 - val_categorical_accuracy: 0.3700\n",
      "\n",
      "Epoch 00013: saving model to model_init_2020-07-1314_06_16.182384/model-00013-1.45591-0.34389-1.48718-0.37000.h5\n",
      "Epoch 14/30\n",
      "23/23 [==============================] - 74s 3s/step - loss: 1.5011 - categorical_accuracy: 0.3525 - val_loss: 1.5796 - val_categorical_accuracy: 0.2900\n",
      "\n",
      "Epoch 00014: saving model to model_init_2020-07-1314_06_16.182384/model-00014-1.51649-0.32730-1.57957-0.29000.h5\n",
      "Epoch 15/30\n",
      "23/23 [==============================] - 74s 3s/step - loss: 1.4379 - categorical_accuracy: 0.3310 - val_loss: 1.5233 - val_categorical_accuracy: 0.4500\n",
      "\n",
      "Epoch 00015: saving model to model_init_2020-07-1314_06_16.182384/model-00015-1.43042-0.34389-1.52334-0.45000.h5\n",
      "Epoch 16/30\n",
      "23/23 [==============================] - 74s 3s/step - loss: 1.4207 - categorical_accuracy: 0.3339 - val_loss: 1.3450 - val_categorical_accuracy: 0.4800\n",
      "\n",
      "Epoch 00016: saving model to model_init_2020-07-1314_06_16.182384/model-00016-1.41515-0.34691-1.34498-0.48000.h5\n",
      "Epoch 17/30\n",
      "23/23 [==============================] - 74s 3s/step - loss: 1.4044 - categorical_accuracy: 0.3682 - val_loss: 1.4058 - val_categorical_accuracy: 0.3700\n",
      "\n",
      "Epoch 00017: saving model to model_init_2020-07-1314_06_16.182384/model-00017-1.39794-0.36953-1.40583-0.37000.h5\n",
      "Epoch 18/30\n",
      "23/23 [==============================] - 74s 3s/step - loss: 1.3843 - categorical_accuracy: 0.3783 - val_loss: 1.2351 - val_categorical_accuracy: 0.4600\n",
      "\n",
      "Epoch 00018: saving model to model_init_2020-07-1314_06_16.182384/model-00018-1.37873-0.38009-1.23506-0.46000.h5\n",
      "Epoch 19/30\n",
      "23/23 [==============================] - 74s 3s/step - loss: 1.3159 - categorical_accuracy: 0.4277 - val_loss: 1.5354 - val_categorical_accuracy: 0.2600\n",
      "\n",
      "Epoch 00019: saving model to model_init_2020-07-1314_06_16.182384/model-00019-1.28890-0.43137-1.53535-0.26000.h5\n",
      "Epoch 20/30\n",
      "23/23 [==============================] - 74s 3s/step - loss: 1.4313 - categorical_accuracy: 0.3217 - val_loss: 1.4067 - val_categorical_accuracy: 0.4100\n",
      "\n",
      "Epoch 00020: saving model to model_init_2020-07-1314_06_16.182384/model-00020-1.42330-0.32127-1.40674-0.41000.h5\n",
      "Epoch 21/30\n",
      "23/23 [==============================] - 74s 3s/step - loss: 1.4516 - categorical_accuracy: 0.3208 - val_loss: 1.6069 - val_categorical_accuracy: 0.2500\n",
      "\n",
      "Epoch 00021: saving model to model_init_2020-07-1314_06_16.182384/model-00021-1.40836-0.33333-1.60688-0.25000.h5\n",
      "Epoch 22/30\n",
      "23/23 [==============================] - 73s 3s/step - loss: 1.5902 - categorical_accuracy: 0.2413 - val_loss: 1.5983 - val_categorical_accuracy: 0.2400\n",
      "\n",
      "Epoch 00022: saving model to model_init_2020-07-1314_06_16.182384/model-00022-1.59042-0.22474-1.59831-0.24000.h5\n",
      "Epoch 23/30\n",
      "23/23 [==============================] - 74s 3s/step - loss: 1.5147 - categorical_accuracy: 0.2773 - val_loss: 1.4551 - val_categorical_accuracy: 0.3100\n",
      "\n",
      "Epoch 00023: saving model to model_init_2020-07-1314_06_16.182384/model-00023-1.51098-0.28808-1.45508-0.31000.h5\n",
      "Epoch 24/30\n",
      "23/23 [==============================] - 74s 3s/step - loss: 1.4721 - categorical_accuracy: 0.2840 - val_loss: 1.4115 - val_categorical_accuracy: 0.2900\n",
      "\n",
      "Epoch 00024: saving model to model_init_2020-07-1314_06_16.182384/model-00024-1.48618-0.28205-1.41149-0.29000.h5\n",
      "Epoch 25/30\n",
      "23/23 [==============================] - 74s 3s/step - loss: 1.4697 - categorical_accuracy: 0.2787 - val_loss: 1.4086 - val_categorical_accuracy: 0.3300\n",
      "\n",
      "Epoch 00025: saving model to model_init_2020-07-1314_06_16.182384/model-00025-1.46435-0.28959-1.40863-0.33000.h5\n",
      "Epoch 26/30\n",
      "23/23 [==============================] - 74s 3s/step - loss: 1.4207 - categorical_accuracy: 0.3255 - val_loss: 1.4969 - val_categorical_accuracy: 0.3400\n",
      "\n",
      "Epoch 00026: saving model to model_init_2020-07-1314_06_16.182384/model-00026-1.43139-0.31222-1.49689-0.34000.h5\n",
      "Epoch 27/30\n",
      "23/23 [==============================] - 74s 3s/step - loss: 1.4455 - categorical_accuracy: 0.3328 - val_loss: 1.5884 - val_categorical_accuracy: 0.3300\n",
      "\n",
      "Epoch 00027: saving model to model_init_2020-07-1314_06_16.182384/model-00027-1.45626-0.31976-1.58836-0.33000.h5\n",
      "Epoch 28/30\n",
      "23/23 [==============================] - 74s 3s/step - loss: 1.4163 - categorical_accuracy: 0.3406 - val_loss: 1.4203 - val_categorical_accuracy: 0.2500\n",
      "\n",
      "Epoch 00028: saving model to model_init_2020-07-1314_06_16.182384/model-00028-1.41685-0.34087-1.42033-0.25000.h5\n",
      "Epoch 29/30\n",
      "23/23 [==============================] - 74s 3s/step - loss: 1.3876 - categorical_accuracy: 0.3734 - val_loss: 1.3581 - val_categorical_accuracy: 0.3600\n",
      "\n",
      "Epoch 00029: saving model to model_init_2020-07-1314_06_16.182384/model-00029-1.37942-0.36199-1.35808-0.36000.h5\n",
      "Epoch 30/30\n",
      "23/23 [==============================] - 74s 3s/step - loss: 1.3304 - categorical_accuracy: 0.4039 - val_loss: 1.3603 - val_categorical_accuracy: 0.3800\n",
      "\n",
      "Epoch 00030: saving model to model_init_2020-07-1314_06_16.182384/model-00030-1.31996-0.39367-1.36033-0.38000.h5\n"
     ]
    },
    {
     "data": {
      "text/plain": [
       "<keras.callbacks.History at 0x7f376d2d8630>"
      ]
     },
     "execution_count": 36,
     "metadata": {},
     "output_type": "execute_result"
    }
   ],
   "source": [
    "model.fit_generator(train_generator, steps_per_epoch=steps_per_epoch, epochs=num_epochs, verbose=1, \n",
    "                    callbacks=callbacks_list, validation_data=val_generator, \n",
    "                    validation_steps=validation_steps, class_weight=None, workers=1, initial_epoch=0)"
   ]
  },
  {
   "cell_type": "code",
   "execution_count": null,
   "metadata": {},
   "outputs": [],
   "source": []
  },
  {
   "cell_type": "markdown",
   "metadata": {},
   "source": [
    "## Model 4\n",
    "Here you make the model using different functionalities that Keras provides. Remember to use `Conv3D` and `MaxPooling3D` and not `Conv2D` and `Maxpooling2D` for a 3D convolution model. You would want to use `TimeDistributed` while building a Conv2D + RNN model. Also remember that the last layer is the softmax. Design the network in such a way that the model is able to give good accuracy on the least number of parameters so that it can fit in the memory of the webcam."
   ]
  },
  {
   "cell_type": "code",
   "execution_count": 37,
   "metadata": {},
   "outputs": [
    {
     "name": "stdout",
     "output_type": "stream",
     "text": [
      "_________________________________________________________________\n",
      "Layer (type)                 Output Shape              Param #   \n",
      "=================================================================\n",
      "conv3d_11 (Conv3D)           (None, 15, 128, 128, 32)  2624      \n",
      "_________________________________________________________________\n",
      "batch_normalization_23 (Batc (None, 15, 128, 128, 32)  128       \n",
      "_________________________________________________________________\n",
      "conv3d_12 (Conv3D)           (None, 13, 126, 126, 32)  27680     \n",
      "_________________________________________________________________\n",
      "batch_normalization_24 (Batc (None, 13, 126, 126, 32)  128       \n",
      "_________________________________________________________________\n",
      "max_pooling3d_19 (MaxPooling (None, 6, 63, 63, 32)     0         \n",
      "_________________________________________________________________\n",
      "dropout_16 (Dropout)         (None, 6, 63, 63, 32)     0         \n",
      "_________________________________________________________________\n",
      "conv3d_13 (Conv3D)           (None, 6, 63, 63, 48)     41520     \n",
      "_________________________________________________________________\n",
      "batch_normalization_25 (Batc (None, 6, 63, 63, 48)     192       \n",
      "_________________________________________________________________\n",
      "conv3d_14 (Conv3D)           (None, 4, 61, 61, 48)     62256     \n",
      "_________________________________________________________________\n",
      "batch_normalization_26 (Batc (None, 4, 61, 61, 48)     192       \n",
      "_________________________________________________________________\n",
      "max_pooling3d_20 (MaxPooling (None, 2, 30, 30, 48)     0         \n",
      "_________________________________________________________________\n",
      "dropout_17 (Dropout)         (None, 2, 30, 30, 48)     0         \n",
      "_________________________________________________________________\n",
      "conv3d_15 (Conv3D)           (None, 2, 30, 30, 96)     124512    \n",
      "_________________________________________________________________\n",
      "batch_normalization_27 (Batc (None, 2, 30, 30, 96)     384       \n",
      "_________________________________________________________________\n",
      "max_pooling3d_21 (MaxPooling (None, 1, 15, 15, 96)     0         \n",
      "_________________________________________________________________\n",
      "dropout_18 (Dropout)         (None, 1, 15, 15, 96)     0         \n",
      "_________________________________________________________________\n",
      "flatten_7 (Flatten)          (None, 21600)             0         \n",
      "_________________________________________________________________\n",
      "dense_17 (Dense)             (None, 128)               2764928   \n",
      "_________________________________________________________________\n",
      "dropout_19 (Dropout)         (None, 128)               0         \n",
      "_________________________________________________________________\n",
      "dense_18 (Dense)             (None, 5)                 645       \n",
      "=================================================================\n",
      "Total params: 3,025,189\n",
      "Trainable params: 3,024,677\n",
      "Non-trainable params: 512\n",
      "_________________________________________________________________\n",
      "None\n"
     ]
    }
   ],
   "source": [
    "#write your model here\n",
    "#Dividing data into X_train and y_train\n",
    "# (x_train, y_train) = train_doc\n",
    "# (x_test, y_test) = val_doc\n",
    "\n",
    "input_shape = (batch_size,15,128,128,3)[1:]\n",
    "\n",
    "model = Sequential()\n",
    "model.add(Conv3D(32, (3, 3, 3), padding='same',activation = 'relu',\n",
    "                 input_shape=input_shape))\n",
    "model.add(BatchNormalization())\n",
    "model.add(Conv3D(32, (3, 3, 3),activation = 'relu'))\n",
    "model.add(BatchNormalization())\n",
    "model.add(MaxPooling3D(pool_size=(2, 2, 2)))\n",
    "model.add(Dropout(0.25))\n",
    "\n",
    "model.add(Conv3D(48, (3, 3, 3), padding='same', activation = 'relu'))\n",
    "model.add(BatchNormalization())\n",
    "model.add(Conv3D(48, (3, 3, 3), activation = 'relu'))\n",
    "model.add(BatchNormalization())\n",
    "model.add(MaxPooling3D(pool_size=(2, 2, 2)))\n",
    "model.add(Dropout(0.25))\n",
    "\n",
    "model.add(Conv3D(96, (3, 3, 3), padding='same', activation = 'relu'))\n",
    "model.add(BatchNormalization())\n",
    "# model.add(Conv3D(64, (3, 3, 3),padding='same', activation = 'relu'))\n",
    "# model.add(BatchNormalization())\n",
    "model.add(MaxPooling3D(pool_size=(2, 2, 2)))\n",
    "model.add(Dropout(0.20))\n",
    "\n",
    "model.add(Flatten())\n",
    "model.add(Dense(128, activation = 'relu'))\n",
    "# model.add(Activation('relu'))\n",
    "model.add(Dropout(0.5))\n",
    "model.add(Dense(5, activation = 'softmax'))\n",
    "# model.add(Activation('softmax'))\n",
    "optimiser = 'sgd'                                                       #write your optimizer\n",
    "model.compile(optimizer=optimiser, loss='categorical_crossentropy', metrics=['categorical_accuracy'])\n",
    "print (model.summary())"
   ]
  },
  {
   "cell_type": "code",
   "execution_count": 38,
   "metadata": {},
   "outputs": [],
   "source": [
    "train_generator = generator(train_path, train_doc, batch_size)\n",
    "val_generator = generator(val_path, val_doc, batch_size)"
   ]
  },
  {
   "cell_type": "code",
   "execution_count": 39,
   "metadata": {},
   "outputs": [],
   "source": [
    "model_name = 'model_init' + '_' + str(curr_dt_time).replace(' ','').replace(':','_') + '/'\n",
    "    \n",
    "if not os.path.exists(model_name):\n",
    "    os.mkdir(model_name)\n",
    "        \n",
    "filepath = model_name + 'model-{epoch:05d}-{loss:.5f}-{categorical_accuracy:.5f}-{val_loss:.5f}-{val_categorical_accuracy:.5f}.h5'\n",
    "\n",
    "checkpoint = ModelCheckpoint(filepath, monitor='val_loss', verbose=1, save_best_only=False, save_weights_only=False, mode='auto', period=1)\n",
    "\n",
    "LR = ReduceLROnPlateau(monitor='val_loss', factor=0.2, patience=10, min_lr=0.001)           # write the REducelronplateau code here\n",
    "callbacks_list = [checkpoint, LR]"
   ]
  },
  {
   "cell_type": "code",
   "execution_count": 40,
   "metadata": {},
   "outputs": [],
   "source": [
    "if (num_train_sequences%batch_size) == 0:\n",
    "    steps_per_epoch = int(num_train_sequences/batch_size)\n",
    "else:\n",
    "    steps_per_epoch = (num_train_sequences//batch_size) + 1\n",
    "\n",
    "if (num_val_sequences%batch_size) == 0:\n",
    "    validation_steps = int(num_val_sequences/batch_size)\n",
    "else:\n",
    "    validation_steps = (num_val_sequences//batch_size) + 1"
   ]
  },
  {
   "cell_type": "code",
   "execution_count": 41,
   "metadata": {},
   "outputs": [
    {
     "name": "stdout",
     "output_type": "stream",
     "text": [
      "Source path =  Project_data/val ; batch size = 30\n",
      "Source path =  Project_data/train ; batch size = 30\n",
      "Epoch 1/30\n"
     ]
    },
    {
     "name": "stderr",
     "output_type": "stream",
     "text": [
      "/mnt/disks/user/anaconda3/lib/python3.6/site-packages/ipykernel_launcher.py:13: DeprecationWarning: `imread` is deprecated!\n",
      "`imread` is deprecated in SciPy 1.0.0, and will be removed in 1.2.0.\n",
      "Use ``imageio.imread`` instead.\n",
      "  del sys.path[0]\n",
      "/mnt/disks/user/anaconda3/lib/python3.6/site-packages/ipykernel_launcher.py:17: DeprecationWarning: `imresize` is deprecated!\n",
      "`imresize` is deprecated in SciPy 1.0.0, and will be removed in 1.2.0.\n",
      "Use ``skimage.transform.resize`` instead.\n",
      "/mnt/disks/user/anaconda3/lib/python3.6/site-packages/ipykernel_launcher.py:36: DeprecationWarning: `imread` is deprecated!\n",
      "`imread` is deprecated in SciPy 1.0.0, and will be removed in 1.2.0.\n",
      "Use ``imageio.imread`` instead.\n",
      "/mnt/disks/user/anaconda3/lib/python3.6/site-packages/ipykernel_launcher.py:40: DeprecationWarning: `imresize` is deprecated!\n",
      "`imresize` is deprecated in SciPy 1.0.0, and will be removed in 1.2.0.\n",
      "Use ``skimage.transform.resize`` instead.\n"
     ]
    },
    {
     "name": "stdout",
     "output_type": "stream",
     "text": [
      "23/23 [==============================] - 79s 3s/step - loss: 7.8202 - categorical_accuracy: 0.2744 - val_loss: 2.7350 - val_categorical_accuracy: 0.4100\n",
      "\n",
      "Epoch 00001: saving model to model_init_2020-07-1314_06_16.182384/model-00001-8.02227-0.28507-2.73502-0.41000.h5\n",
      "Epoch 2/30\n",
      "23/23 [==============================] - 71s 3s/step - loss: 2.2329 - categorical_accuracy: 0.3368 - val_loss: 2.3408 - val_categorical_accuracy: 0.2200\n",
      "\n",
      "Epoch 00002: saving model to model_init_2020-07-1314_06_16.182384/model-00002-2.26245-0.34992-2.34076-0.22000.h5\n",
      "Epoch 3/30\n",
      "23/23 [==============================] - 71s 3s/step - loss: 1.4363 - categorical_accuracy: 0.4123 - val_loss: 1.5094 - val_categorical_accuracy: 0.2900\n",
      "\n",
      "Epoch 00003: saving model to model_init_2020-07-1314_06_16.182384/model-00003-1.43960-0.42836-1.50937-0.29000.h5\n",
      "Epoch 4/30\n",
      "23/23 [==============================] - 71s 3s/step - loss: 1.1878 - categorical_accuracy: 0.5148 - val_loss: 4.4381 - val_categorical_accuracy: 0.2600\n",
      "\n",
      "Epoch 00004: saving model to model_init_2020-07-1314_06_16.182384/model-00004-1.17007-0.52187-4.43808-0.26000.h5\n",
      "Epoch 5/30\n",
      "23/23 [==============================] - 71s 3s/step - loss: 1.1608 - categorical_accuracy: 0.4756 - val_loss: 2.8245 - val_categorical_accuracy: 0.3100\n",
      "\n",
      "Epoch 00005: saving model to model_init_2020-07-1314_06_16.182384/model-00005-1.16869-0.48115-2.82454-0.31000.h5\n",
      "Epoch 6/30\n",
      "23/23 [==============================] - 71s 3s/step - loss: 1.0477 - categorical_accuracy: 0.5119 - val_loss: 1.0687 - val_categorical_accuracy: 0.5200\n",
      "\n",
      "Epoch 00006: saving model to model_init_2020-07-1314_06_16.182384/model-00006-1.04732-0.51885-1.06872-0.52000.h5\n",
      "Epoch 7/30\n",
      "23/23 [==============================] - 71s 3s/step - loss: 0.9867 - categorical_accuracy: 0.5685 - val_loss: 0.8978 - val_categorical_accuracy: 0.6100\n",
      "\n",
      "Epoch 00007: saving model to model_init_2020-07-1314_06_16.182384/model-00007-0.97421-0.57768-0.89777-0.61000.h5\n",
      "Epoch 8/30\n",
      "23/23 [==============================] - 71s 3s/step - loss: 0.9630 - categorical_accuracy: 0.6063 - val_loss: 1.4921 - val_categorical_accuracy: 0.4500\n",
      "\n",
      "Epoch 00008: saving model to model_init_2020-07-1314_06_16.182384/model-00008-0.94388-0.61689-1.49207-0.45000.h5\n",
      "Epoch 9/30\n",
      "23/23 [==============================] - 71s 3s/step - loss: 0.9256 - categorical_accuracy: 0.6005 - val_loss: 1.8220 - val_categorical_accuracy: 0.5000\n",
      "\n",
      "Epoch 00009: saving model to model_init_2020-07-1314_06_16.182384/model-00009-0.89310-0.61086-1.82201-0.50000.h5\n",
      "Epoch 10/30\n",
      "23/23 [==============================] - 71s 3s/step - loss: 0.8928 - categorical_accuracy: 0.6237 - val_loss: 1.4064 - val_categorical_accuracy: 0.6000\n",
      "\n",
      "Epoch 00010: saving model to model_init_2020-07-1314_06_16.182384/model-00010-0.84881-0.63499-1.40637-0.60000.h5\n",
      "Epoch 11/30\n",
      "23/23 [==============================] - 71s 3s/step - loss: 0.9097 - categorical_accuracy: 0.6362 - val_loss: 4.9194 - val_categorical_accuracy: 0.3200\n",
      "\n",
      "Epoch 00011: saving model to model_init_2020-07-1314_06_16.182384/model-00011-0.85153-0.63499-4.91937-0.32000.h5\n",
      "Epoch 12/30\n",
      "23/23 [==============================] - 71s 3s/step - loss: 0.9526 - categorical_accuracy: 0.6217 - val_loss: 7.4462 - val_categorical_accuracy: 0.2100\n",
      "\n",
      "Epoch 00012: saving model to model_init_2020-07-1314_06_16.182384/model-00012-0.96411-0.61991-7.44624-0.21000.h5\n",
      "Epoch 13/30\n",
      "23/23 [==============================] - 71s 3s/step - loss: 0.8277 - categorical_accuracy: 0.6556 - val_loss: 4.5212 - val_categorical_accuracy: 0.3100\n",
      "\n",
      "Epoch 00013: saving model to model_init_2020-07-1314_06_16.182384/model-00013-0.82098-0.66817-4.52125-0.31000.h5\n",
      "Epoch 14/30\n",
      "23/23 [==============================] - 71s 3s/step - loss: 0.8531 - categorical_accuracy: 0.6301 - val_loss: 3.3584 - val_categorical_accuracy: 0.3200\n",
      "\n",
      "Epoch 00014: saving model to model_init_2020-07-1314_06_16.182384/model-00014-0.83884-0.65460-3.35843-0.32000.h5\n",
      "Epoch 15/30\n",
      "23/23 [==============================] - 71s 3s/step - loss: 0.7461 - categorical_accuracy: 0.6957 - val_loss: 2.8949 - val_categorical_accuracy: 0.3600\n",
      "\n",
      "Epoch 00015: saving model to model_init_2020-07-1314_06_16.182384/model-00015-0.74648-0.69683-2.89489-0.36000.h5\n",
      "Epoch 16/30\n",
      "23/23 [==============================] - 71s 3s/step - loss: 0.6458 - categorical_accuracy: 0.7184 - val_loss: 2.4811 - val_categorical_accuracy: 0.3600\n",
      "\n",
      "Epoch 00016: saving model to model_init_2020-07-1314_06_16.182384/model-00016-0.64633-0.70739-2.48114-0.36000.h5\n",
      "Epoch 17/30\n",
      "23/23 [==============================] - 71s 3s/step - loss: 0.6800 - categorical_accuracy: 0.7209 - val_loss: 4.8620 - val_categorical_accuracy: 0.3100\n",
      "\n",
      "Epoch 00017: saving model to model_init_2020-07-1314_06_16.182384/model-00017-0.64509-0.73605-4.86202-0.31000.h5\n",
      "Epoch 18/30\n",
      "23/23 [==============================] - 71s 3s/step - loss: 0.8402 - categorical_accuracy: 0.6783 - val_loss: 0.9979 - val_categorical_accuracy: 0.5900\n",
      "\n",
      "Epoch 00018: saving model to model_init_2020-07-1314_06_16.182384/model-00018-0.85341-0.67873-0.99788-0.59000.h5\n",
      "Epoch 19/30\n",
      "23/23 [==============================] - 71s 3s/step - loss: 0.6713 - categorical_accuracy: 0.7369 - val_loss: 1.3550 - val_categorical_accuracy: 0.5400\n",
      "\n",
      "Epoch 00019: saving model to model_init_2020-07-1314_06_16.182384/model-00019-0.61566-0.75264-1.35495-0.54000.h5\n",
      "Epoch 20/30\n",
      "23/23 [==============================] - 71s 3s/step - loss: 0.5290 - categorical_accuracy: 0.7866 - val_loss: 0.8164 - val_categorical_accuracy: 0.7100\n",
      "\n",
      "Epoch 00020: saving model to model_init_2020-07-1314_06_16.182384/model-00020-0.54646-0.77828-0.81643-0.71000.h5\n",
      "Epoch 21/30\n",
      "23/23 [==============================] - 71s 3s/step - loss: 0.5371 - categorical_accuracy: 0.7712 - val_loss: 0.8235 - val_categorical_accuracy: 0.7500\n",
      "\n",
      "Epoch 00021: saving model to model_init_2020-07-1314_06_16.182384/model-00021-0.54073-0.77526-0.82349-0.75000.h5\n",
      "Epoch 22/30\n",
      "23/23 [==============================] - 71s 3s/step - loss: 0.5061 - categorical_accuracy: 0.7674 - val_loss: 0.7335 - val_categorical_accuracy: 0.7900\n",
      "\n",
      "Epoch 00022: saving model to model_init_2020-07-1314_06_16.182384/model-00022-0.49595-0.78431-0.73348-0.79000.h5\n",
      "Epoch 23/30\n",
      "23/23 [==============================] - 71s 3s/step - loss: 0.4490 - categorical_accuracy: 0.8220 - val_loss: 0.8843 - val_categorical_accuracy: 0.7300\n",
      "\n",
      "Epoch 00023: saving model to model_init_2020-07-1314_06_16.182384/model-00023-0.45102-0.82805-0.88428-0.73000.h5\n",
      "Epoch 24/30\n",
      "23/23 [==============================] - 71s 3s/step - loss: 0.4633 - categorical_accuracy: 0.8191 - val_loss: 0.8031 - val_categorical_accuracy: 0.7100\n",
      "\n",
      "Epoch 00024: saving model to model_init_2020-07-1314_06_16.182384/model-00024-0.44931-0.82504-0.80306-0.71000.h5\n",
      "Epoch 25/30\n",
      "23/23 [==============================] - 71s 3s/step - loss: 0.4548 - categorical_accuracy: 0.8133 - val_loss: 0.8714 - val_categorical_accuracy: 0.7200\n",
      "\n",
      "Epoch 00025: saving model to model_init_2020-07-1314_06_16.182384/model-00025-0.43054-0.81900-0.87139-0.72000.h5\n",
      "Epoch 26/30\n",
      "23/23 [==============================] - 71s 3s/step - loss: 0.4066 - categorical_accuracy: 0.8191 - val_loss: 0.9048 - val_categorical_accuracy: 0.7500\n",
      "\n",
      "Epoch 00026: saving model to model_init_2020-07-1314_06_16.182384/model-00026-0.40701-0.82504-0.90475-0.75000.h5\n",
      "Epoch 27/30\n",
      "23/23 [==============================] - 71s 3s/step - loss: 0.4383 - categorical_accuracy: 0.8162 - val_loss: 0.8010 - val_categorical_accuracy: 0.7500\n",
      "\n",
      "Epoch 00027: saving model to model_init_2020-07-1314_06_16.182384/model-00027-0.43734-0.82202-0.80100-0.75000.h5\n",
      "Epoch 28/30\n",
      "23/23 [==============================] - 71s 3s/step - loss: 0.3735 - categorical_accuracy: 0.8447 - val_loss: 0.8674 - val_categorical_accuracy: 0.7400\n",
      "\n",
      "Epoch 00028: saving model to model_init_2020-07-1314_06_16.182384/model-00028-0.38185-0.83861-0.86745-0.74000.h5\n",
      "Epoch 29/30\n",
      "23/23 [==============================] - 71s 3s/step - loss: 0.4274 - categorical_accuracy: 0.8345 - val_loss: 0.8250 - val_categorical_accuracy: 0.7500\n",
      "\n",
      "Epoch 00029: saving model to model_init_2020-07-1314_06_16.182384/model-00029-0.43033-0.82805-0.82495-0.75000.h5\n",
      "Epoch 30/30\n",
      "23/23 [==============================] - 71s 3s/step - loss: 0.4109 - categorical_accuracy: 0.8322 - val_loss: 1.4432 - val_categorical_accuracy: 0.5500\n",
      "\n",
      "Epoch 00030: saving model to model_init_2020-07-1314_06_16.182384/model-00030-0.38388-0.83861-1.44319-0.55000.h5\n"
     ]
    },
    {
     "data": {
      "text/plain": [
       "<keras.callbacks.History at 0x7f376c06da20>"
      ]
     },
     "execution_count": 41,
     "metadata": {},
     "output_type": "execute_result"
    }
   ],
   "source": [
    "model.fit_generator(train_generator, steps_per_epoch=steps_per_epoch, epochs=num_epochs, verbose=1, \n",
    "                    callbacks=callbacks_list, validation_data=val_generator, \n",
    "                    validation_steps=validation_steps, class_weight=None, workers=1, initial_epoch=0)"
   ]
  },
  {
   "cell_type": "markdown",
   "metadata": {},
   "source": [
    "# Model 5\n",
    "using TimeDistributed while building a Conv2D + RNN model, the last layer is the softmax. Designing the network in such a way that the model is able to give good accuracy on the least number of parameters so that it can fit in the memory of the webcam."
   ]
  },
  {
   "cell_type": "code",
   "execution_count": 42,
   "metadata": {},
   "outputs": [],
   "source": [
    "from keras.models import Sequential, Model\n",
    "from keras.layers import Dense, GRU, Flatten, TimeDistributed, Flatten, BatchNormalization, Activation, Dropout,LSTM\n",
    "from keras.layers.convolutional import Conv3D,Conv2D, MaxPooling3D,MaxPooling2D\n",
    "from keras.callbacks import ModelCheckpoint, ReduceLROnPlateau\n",
    "from keras import optimizers\n",
    "from keras.applications import ResNet50\n",
    "from keras.applications.resnet50 import preprocess_input\n",
    "from keras.layers.recurrent import LSTM, GRU"
   ]
  },
  {
   "cell_type": "code",
   "execution_count": 44,
   "metadata": {},
   "outputs": [],
   "source": [
    "#write your model here\n",
    "nb_featuremap = [8,16,32,64]\n",
    "nb_dense = [128,64,5]\n",
    "nb_classes = 5\n",
    "# Input\n",
    "input_shape = (batch_size,15,128,128,3)[1:]\n",
    "\n",
    "model = Sequential()\n",
    "\n",
    "model.add(TimeDistributed(Conv2D(nb_featuremap[0], (3, 3), strides=(2, 2),activation='relu', padding='same'), input_shape=input_shape))\n",
    "\n",
    "\n",
    "model.add(TimeDistributed(Conv2D(nb_featuremap[1], (3,3),padding='same', activation='relu')))\n",
    "model.add(TimeDistributed(MaxPooling2D((2, 2), strides=(2, 2))))\n",
    "\n",
    "model.add(TimeDistributed(Conv2D(nb_featuremap[2], (3,3),padding='same', activation='relu')))\n",
    "model.add(TimeDistributed(MaxPooling2D((2, 2), strides=(2, 2))))\n",
    "\n",
    "model.add(TimeDistributed(Conv2D(nb_featuremap[3], (2,2),padding='same', activation='relu')))\n",
    "model.add(TimeDistributed(MaxPooling2D((2, 2), strides=(2, 2))))\n",
    "\n",
    "model.add(TimeDistributed(BatchNormalization()))\n",
    "model.add(Dropout(0.25))\n",
    "\n",
    "model.add(TimeDistributed(Flatten()))\n",
    "\n",
    "model.add(Dense(nb_dense[0], activation='relu'))\n",
    "model.add(Dropout(0.25))\n",
    "model.add(Dense(nb_dense[1], activation='relu'))\n",
    "model.add(Dropout(0.25))\n",
    "\n",
    "## using GRU as the RNN model along with softmax as our last layer.\n",
    "model.add(GRU(128, return_sequences=False))\n",
    "model.add(Dense(nb_classes, activation='softmax')) # using Softmax as last layer"
   ]
  },
  {
   "cell_type": "code",
   "execution_count": 45,
   "metadata": {},
   "outputs": [
    {
     "name": "stdout",
     "output_type": "stream",
     "text": [
      "_________________________________________________________________\n",
      "Layer (type)                 Output Shape              Param #   \n",
      "=================================================================\n",
      "time_distributed_1 (TimeDist (None, 15, 64, 64, 8)     224       \n",
      "_________________________________________________________________\n",
      "time_distributed_2 (TimeDist (None, 15, 64, 64, 16)    1168      \n",
      "_________________________________________________________________\n",
      "time_distributed_3 (TimeDist (None, 15, 32, 32, 16)    0         \n",
      "_________________________________________________________________\n",
      "time_distributed_4 (TimeDist (None, 15, 32, 32, 32)    4640      \n",
      "_________________________________________________________________\n",
      "time_distributed_5 (TimeDist (None, 15, 16, 16, 32)    0         \n",
      "_________________________________________________________________\n",
      "time_distributed_6 (TimeDist (None, 15, 16, 16, 64)    8256      \n",
      "_________________________________________________________________\n",
      "time_distributed_7 (TimeDist (None, 15, 8, 8, 64)      0         \n",
      "_________________________________________________________________\n",
      "time_distributed_8 (TimeDist (None, 15, 8, 8, 64)      256       \n",
      "_________________________________________________________________\n",
      "dropout_20 (Dropout)         (None, 15, 8, 8, 64)      0         \n",
      "_________________________________________________________________\n",
      "time_distributed_9 (TimeDist (None, 15, 4096)          0         \n",
      "_________________________________________________________________\n",
      "dense_19 (Dense)             (None, 15, 128)           524416    \n",
      "_________________________________________________________________\n",
      "dropout_21 (Dropout)         (None, 15, 128)           0         \n",
      "_________________________________________________________________\n",
      "dense_20 (Dense)             (None, 15, 64)            8256      \n",
      "_________________________________________________________________\n",
      "dropout_22 (Dropout)         (None, 15, 64)            0         \n",
      "_________________________________________________________________\n",
      "gru_1 (GRU)                  (None, 128)               74112     \n",
      "_________________________________________________________________\n",
      "dense_21 (Dense)             (None, 5)                 645       \n",
      "=================================================================\n",
      "Total params: 621,973\n",
      "Trainable params: 621,845\n",
      "Non-trainable params: 128\n",
      "_________________________________________________________________\n",
      "None\n"
     ]
    }
   ],
   "source": [
    "from keras.optimizers import Adam\n",
    "\n",
    "optimiser =Adam(0.001) #write your optimizer\n",
    "model.compile(optimizer=optimiser, loss='categorical_crossentropy', metrics=['categorical_accuracy'])\n",
    "print (model.summary())\n",
    "\n",
    "# creating the `train_generator` and the `val_generator` which will be used in `.fit_generator`\n",
    "train_generator = generator(train_path, train_doc, batch_size)\n",
    "val_generator = generator(val_path, val_doc, batch_size)"
   ]
  },
  {
   "cell_type": "code",
   "execution_count": null,
   "metadata": {},
   "outputs": [],
   "source": []
  },
  {
   "cell_type": "code",
   "execution_count": 46,
   "metadata": {},
   "outputs": [],
   "source": [
    "model_name = 'model_init' + '_' + str(curr_dt_time).replace(' ','').replace(':','_') + '/'\n",
    "    \n",
    "if not os.path.exists(model_name):\n",
    "    os.mkdir(model_name)\n",
    "        \n",
    "filepath = model_name + 'model-{epoch:05d}-{loss:.5f}-{categorical_accuracy:.5f}-{val_loss:.5f}-{val_categorical_accuracy:.5f}.h5'\n",
    "\n",
    "checkpoint = ModelCheckpoint(filepath, monitor='val_loss', verbose=1, save_best_only=False, save_weights_only=False, mode='auto', period=1)\n",
    "\n",
    "LR = ReduceLROnPlateau(monitor='val_loss', factor=0.2, patience=10, min_lr=0.001)           # write the REducelronplateau code here\n",
    "callbacks_list = [checkpoint, LR]"
   ]
  },
  {
   "cell_type": "markdown",
   "metadata": {},
   "source": [
    "The `steps_per_epoch` and `validation_steps` are used by `fit_generator` to decide the number of next() calls it need to make."
   ]
  },
  {
   "cell_type": "code",
   "execution_count": 47,
   "metadata": {},
   "outputs": [],
   "source": [
    "if (num_train_sequences%batch_size) == 0:\n",
    "    steps_per_epoch = int(num_train_sequences/batch_size)\n",
    "else:\n",
    "    steps_per_epoch = (num_train_sequences//batch_size) + 1\n",
    "\n",
    "if (num_val_sequences%batch_size) == 0:\n",
    "    validation_steps = int(num_val_sequences/batch_size)\n",
    "else:\n",
    "    validation_steps = (num_val_sequences//batch_size) + 1"
   ]
  },
  {
   "cell_type": "markdown",
   "metadata": {},
   "source": [
    "Let us now fit the model. This will start training the model and with the help of the checkpoints, you'll be able to save the model at the end of each epoch."
   ]
  },
  {
   "cell_type": "code",
   "execution_count": null,
   "metadata": {
    "scrolled": true
   },
   "outputs": [
    {
     "name": "stdout",
     "output_type": "stream",
     "text": [
      "Source path =  Project_data/val ; batch size = 30\n",
      "Source path =  Project_data/train ; batch size = 30\n",
      "Epoch 1/30\n"
     ]
    },
    {
     "name": "stderr",
     "output_type": "stream",
     "text": [
      "/mnt/disks/user/anaconda3/lib/python3.6/site-packages/ipykernel_launcher.py:13: DeprecationWarning: `imread` is deprecated!\n",
      "`imread` is deprecated in SciPy 1.0.0, and will be removed in 1.2.0.\n",
      "Use ``imageio.imread`` instead.\n",
      "  del sys.path[0]\n",
      "/mnt/disks/user/anaconda3/lib/python3.6/site-packages/ipykernel_launcher.py:17: DeprecationWarning: `imresize` is deprecated!\n",
      "`imresize` is deprecated in SciPy 1.0.0, and will be removed in 1.2.0.\n",
      "Use ``skimage.transform.resize`` instead.\n"
     ]
    },
    {
     "name": "stdout",
     "output_type": "stream",
     "text": [
      " 3/23 [==>...........................] - ETA: 51s - loss: 1.5524 - categorical_accuracy: 0.3444 "
     ]
    },
    {
     "name": "stderr",
     "output_type": "stream",
     "text": [
      "/mnt/disks/user/anaconda3/lib/python3.6/site-packages/ipykernel_launcher.py:36: DeprecationWarning: `imread` is deprecated!\n",
      "`imread` is deprecated in SciPy 1.0.0, and will be removed in 1.2.0.\n",
      "Use ``imageio.imread`` instead.\n",
      "/mnt/disks/user/anaconda3/lib/python3.6/site-packages/ipykernel_launcher.py:40: DeprecationWarning: `imresize` is deprecated!\n",
      "`imresize` is deprecated in SciPy 1.0.0, and will be removed in 1.2.0.\n",
      "Use ``skimage.transform.resize`` instead.\n"
     ]
    },
    {
     "name": "stdout",
     "output_type": "stream",
     "text": [
      "23/23 [==============================] - 45s 2s/step - loss: 1.3554 - categorical_accuracy: 0.3900 - val_loss: 1.6954 - val_categorical_accuracy: 0.3700\n",
      "\n",
      "Epoch 00001: saving model to model_init_2020-07-1314_06_16.182384/model-00001-1.35643-0.39216-1.69541-0.37000.h5\n",
      "Epoch 2/30\n",
      "23/23 [==============================] - 38s 2s/step - loss: 1.0144 - categorical_accuracy: 0.5859 - val_loss: 2.5338 - val_categorical_accuracy: 0.2500\n",
      "\n",
      "Epoch 00002: saving model to model_init_2020-07-1314_06_16.182384/model-00002-1.00079-0.59578-2.53377-0.25000.h5\n",
      "Epoch 3/30\n",
      "23/23 [==============================] - 41s 2s/step - loss: 0.6869 - categorical_accuracy: 0.7146 - val_loss: 1.2884 - val_categorical_accuracy: 0.5500\n",
      "\n",
      "Epoch 00003: saving model to model_init_2020-07-1314_06_16.182384/model-00003-0.69393-0.71644-1.28838-0.55000.h5\n",
      "Epoch 4/30\n",
      "23/23 [==============================] - 41s 2s/step - loss: 0.5501 - categorical_accuracy: 0.7857 - val_loss: 1.1418 - val_categorical_accuracy: 0.6400\n",
      "\n",
      "Epoch 00004: saving model to model_init_2020-07-1314_06_16.182384/model-00004-0.54373-0.79035-1.14176-0.64000.h5\n",
      "Epoch 5/30\n",
      "23/23 [==============================] - 41s 2s/step - loss: 0.3432 - categorical_accuracy: 0.8795 - val_loss: 1.6482 - val_categorical_accuracy: 0.6000\n",
      "\n",
      "Epoch 00005: saving model to model_init_2020-07-1314_06_16.182384/model-00005-0.35244-0.87481-1.64818-0.60000.h5\n",
      "Epoch 6/30\n",
      "23/23 [==============================] - 40s 2s/step - loss: 0.1469 - categorical_accuracy: 0.9623 - val_loss: 1.4414 - val_categorical_accuracy: 0.6300\n",
      "\n",
      "Epoch 00006: saving model to model_init_2020-07-1314_06_16.182384/model-00006-0.14988-0.96078-1.44141-0.63000.h5\n",
      "Epoch 7/30\n",
      "23/23 [==============================] - 40s 2s/step - loss: 0.0908 - categorical_accuracy: 0.9643 - val_loss: 2.0337 - val_categorical_accuracy: 0.5400\n",
      "\n",
      "Epoch 00007: saving model to model_init_2020-07-1314_06_16.182384/model-00007-0.08301-0.97587-2.03374-0.54000.h5\n",
      "Epoch 8/30\n",
      "23/23 [==============================] - 41s 2s/step - loss: 0.2758 - categorical_accuracy: 0.9042 - val_loss: 1.6218 - val_categorical_accuracy: 0.6200\n",
      "\n",
      "Epoch 00008: saving model to model_init_2020-07-1314_06_16.182384/model-00008-0.28455-0.90045-1.62175-0.62000.h5\n",
      "Epoch 9/30\n",
      "23/23 [==============================] - 41s 2s/step - loss: 0.1662 - categorical_accuracy: 0.9390 - val_loss: 3.2941 - val_categorical_accuracy: 0.4700\n",
      "\n",
      "Epoch 00009: saving model to model_init_2020-07-1314_06_16.182384/model-00009-0.17255-0.93665-3.29407-0.47000.h5\n",
      "Epoch 10/30\n",
      "23/23 [==============================] - 40s 2s/step - loss: 0.0724 - categorical_accuracy: 0.9643 - val_loss: 2.3341 - val_categorical_accuracy: 0.5900\n",
      "\n",
      "Epoch 00010: saving model to model_init_2020-07-1314_06_16.182384/model-00010-0.06137-0.97587-2.33409-0.59000.h5\n",
      "Epoch 11/30\n",
      "23/23 [==============================] - 41s 2s/step - loss: 0.1562 - categorical_accuracy: 0.9535 - val_loss: 3.0239 - val_categorical_accuracy: 0.5200\n",
      "\n",
      "Epoch 00011: saving model to model_init_2020-07-1314_06_16.182384/model-00011-0.16207-0.95173-3.02388-0.52000.h5\n",
      "Epoch 12/30\n",
      "23/23 [==============================] - 41s 2s/step - loss: 0.0551 - categorical_accuracy: 0.9869 - val_loss: 1.7455 - val_categorical_accuracy: 0.6200\n",
      "\n",
      "Epoch 00012: saving model to model_init_2020-07-1314_06_16.182384/model-00012-0.05662-0.98643-1.74554-0.62000.h5\n",
      "Epoch 13/30\n",
      "23/23 [==============================] - 40s 2s/step - loss: 0.0342 - categorical_accuracy: 0.9869 - val_loss: 1.9308 - val_categorical_accuracy: 0.6100\n",
      "\n",
      "Epoch 00013: saving model to model_init_2020-07-1314_06_16.182384/model-00013-0.03548-0.98643-1.93077-0.61000.h5\n",
      "Epoch 14/30\n",
      "23/23 [==============================] - 41s 2s/step - loss: 0.0266 - categorical_accuracy: 0.9927 - val_loss: 2.0436 - val_categorical_accuracy: 0.6700\n",
      "\n",
      "Epoch 00014: saving model to model_init_2020-07-1314_06_16.182384/model-00014-0.02742-0.99246-2.04360-0.67000.h5\n",
      "Epoch 15/30\n",
      "23/23 [==============================] - 40s 2s/step - loss: 0.0184 - categorical_accuracy: 0.9956 - val_loss: 2.2820 - val_categorical_accuracy: 0.6300\n",
      "\n",
      "Epoch 00015: saving model to model_init_2020-07-1314_06_16.182384/model-00015-0.01843-0.99548-2.28197-0.63000.h5\n",
      "Epoch 16/30\n",
      "23/23 [==============================] - 41s 2s/step - loss: 0.0276 - categorical_accuracy: 0.9942 - val_loss: 1.7348 - val_categorical_accuracy: 0.6800\n",
      "\n",
      "Epoch 00016: saving model to model_init_2020-07-1314_06_16.182384/model-00016-0.02856-0.99397-1.73475-0.68000.h5\n",
      "Epoch 17/30\n",
      "23/23 [==============================] - 41s 2s/step - loss: 0.0196 - categorical_accuracy: 0.9884 - val_loss: 3.1320 - val_categorical_accuracy: 0.5300\n",
      "\n",
      "Epoch 00017: saving model to model_init_2020-07-1314_06_16.182384/model-00017-0.02027-0.98793-3.13200-0.53000.h5\n",
      "Epoch 18/30\n",
      "23/23 [==============================] - 41s 2s/step - loss: 0.0228 - categorical_accuracy: 0.9927 - val_loss: 3.0150 - val_categorical_accuracy: 0.5500\n",
      "\n",
      "Epoch 00018: saving model to model_init_2020-07-1314_06_16.182384/model-00018-0.01961-0.99246-3.01503-0.55000.h5\n",
      "Epoch 19/30\n",
      "23/23 [==============================] - 41s 2s/step - loss: 0.0471 - categorical_accuracy: 0.9840 - val_loss: 2.0980 - val_categorical_accuracy: 0.7100\n",
      "\n",
      "Epoch 00019: saving model to model_init_2020-07-1314_06_16.182384/model-00019-0.04850-0.98341-2.09803-0.71000.h5\n",
      "Epoch 20/30\n",
      "23/23 [==============================] - 41s 2s/step - loss: 0.0489 - categorical_accuracy: 0.9855 - val_loss: 2.6630 - val_categorical_accuracy: 0.6300\n",
      "\n",
      "Epoch 00020: saving model to model_init_2020-07-1314_06_16.182384/model-00020-0.05065-0.98492-2.66301-0.63000.h5\n",
      "Epoch 21/30\n",
      "23/23 [==============================] - 41s 2s/step - loss: 0.0414 - categorical_accuracy: 0.9855 - val_loss: 3.0342 - val_categorical_accuracy: 0.5400\n",
      "\n",
      "Epoch 00021: saving model to model_init_2020-07-1314_06_16.182384/model-00021-0.04240-0.98492-3.03416-0.54000.h5\n",
      "Epoch 22/30\n",
      "23/23 [==============================] - 41s 2s/step - loss: 0.0279 - categorical_accuracy: 0.9898 - val_loss: 2.2370 - val_categorical_accuracy: 0.6700\n",
      "\n",
      "Epoch 00022: saving model to model_init_2020-07-1314_06_16.182384/model-00022-0.02893-0.98944-2.23705-0.67000.h5\n",
      "Epoch 23/30\n",
      "23/23 [==============================] - 40s 2s/step - loss: 0.0868 - categorical_accuracy: 0.9715 - val_loss: 2.3552 - val_categorical_accuracy: 0.6400\n",
      "\n",
      "Epoch 00023: saving model to model_init_2020-07-1314_06_16.182384/model-00023-0.05018-0.98341-2.35516-0.64000.h5\n",
      "Epoch 24/30\n",
      "23/23 [==============================] - 41s 2s/step - loss: 0.1010 - categorical_accuracy: 0.9666 - val_loss: 2.2603 - val_categorical_accuracy: 0.5700\n",
      "\n",
      "Epoch 00024: saving model to model_init_2020-07-1314_06_16.182384/model-00024-0.10481-0.96531-2.26032-0.57000.h5\n",
      "Epoch 25/30\n",
      "23/23 [==============================] - 40s 2s/step - loss: 0.0437 - categorical_accuracy: 0.9855 - val_loss: 2.1039 - val_categorical_accuracy: 0.6300\n",
      "\n",
      "Epoch 00025: saving model to model_init_2020-07-1314_06_16.182384/model-00025-0.04382-0.98492-2.10388-0.63000.h5\n",
      "Epoch 26/30\n",
      "23/23 [==============================] - 41s 2s/step - loss: 0.0085 - categorical_accuracy: 1.0000 - val_loss: 2.4381 - val_categorical_accuracy: 0.5900\n",
      "\n",
      "Epoch 00026: saving model to model_init_2020-07-1314_06_16.182384/model-00026-0.00883-1.00000-2.43812-0.59000.h5\n",
      "Epoch 27/30\n",
      "23/23 [==============================] - 40s 2s/step - loss: 0.0032 - categorical_accuracy: 1.0000 - val_loss: 1.5478 - val_categorical_accuracy: 0.7400\n",
      "\n",
      "Epoch 00027: saving model to model_init_2020-07-1314_06_16.182384/model-00027-0.00331-1.00000-1.54782-0.74000.h5\n",
      "Epoch 28/30\n",
      "23/23 [==============================] - 41s 2s/step - loss: 0.0033 - categorical_accuracy: 1.0000 - val_loss: 1.6342 - val_categorical_accuracy: 0.7500\n",
      "\n",
      "Epoch 00028: saving model to model_init_2020-07-1314_06_16.182384/model-00028-0.00334-1.00000-1.63424-0.75000.h5\n",
      "Epoch 29/30\n",
      "23/23 [==============================] - 41s 2s/step - loss: 0.0017 - categorical_accuracy: 1.0000 - val_loss: 2.0510 - val_categorical_accuracy: 0.6900\n",
      "\n",
      "Epoch 00029: saving model to model_init_2020-07-1314_06_16.182384/model-00029-0.00174-1.00000-2.05101-0.69000.h5\n",
      "Epoch 30/30\n",
      "21/23 [==========================>...] - ETA: 3s - loss: 0.0018 - categorical_accuracy: 1.0000"
     ]
    }
   ],
   "source": [
    "model.fit_generator(train_generator, steps_per_epoch=steps_per_epoch, epochs=num_epochs, verbose=1, \n",
    "                    callbacks=callbacks_list, validation_data=val_generator, \n",
    "                    validation_steps=validation_steps, class_weight=None, workers=5, initial_epoch=0)"
   ]
  },
  {
   "cell_type": "code",
   "execution_count": null,
   "metadata": {},
   "outputs": [],
   "source": []
  },
  {
   "cell_type": "code",
   "execution_count": null,
   "metadata": {},
   "outputs": [],
   "source": []
  },
  {
   "cell_type": "code",
   "execution_count": null,
   "metadata": {},
   "outputs": [],
   "source": []
  },
  {
   "cell_type": "code",
   "execution_count": null,
   "metadata": {},
   "outputs": [],
   "source": []
  },
  {
   "cell_type": "code",
   "execution_count": null,
   "metadata": {},
   "outputs": [],
   "source": []
  }
 ],
 "metadata": {
  "kernelspec": {
   "display_name": "Python 3",
   "language": "python",
   "name": "python3"
  },
  "language_info": {
   "codemirror_mode": {
    "name": "ipython",
    "version": 3
   },
   "file_extension": ".py",
   "mimetype": "text/x-python",
   "name": "python",
   "nbconvert_exporter": "python",
   "pygments_lexer": "ipython3",
   "version": "3.6.8"
  }
 },
 "nbformat": 4,
 "nbformat_minor": 2
}
